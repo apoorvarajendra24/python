{
 "cells": [
  {
   "cell_type": "code",
   "execution_count": null,
   "metadata": {},
   "outputs": [],
   "source": [
    "##Variable assingment(Types of data type)\n",
    "name=\"Tanvi Bokya\"\n",
    "age=19\n",
    "height=5.1\n",
    "print(\"Name : \",name)\n",
    "print(\"Age : \",age)\n",
    "print(\"Height :\",height)\n",
    "print(\"Sanity :\",sanity)"
   ]
  },
  {
   "cell_type": "code",
   "execution_count": null,
   "metadata": {},
   "outputs": [],
   "source": [
    "##Case Sensitivity\n",
    "name=\"dumb\"\n",
    "Name=\"ass\"\n",
    "if name==Name:\n",
    "    print(\"Congrats, you are\")\n",
    "else:\n",
    "    print(\"Case sensitivity wins.\")"
   ]
  },
  {
   "cell_type": "code",
   "execution_count": null,
   "metadata": {},
   "outputs": [],
   "source": [
    "##Type conversion\n",
    "age=100\n",
    "age_str=str(age)\n",
    "print(type(age_str))\n",
    "print(type(age))\n",
    "\n",
    "##name=\"apoorva\"\n",
    "##print(int(name))          ValueError: invalid literal for int() with base 10: 'apoorva'\n",
    "\n",
    "time=\"34\"\n",
    "print(int(time),type(time))       ##it is a number/integer"
   ]
  },
  {
   "cell_type": "code",
   "execution_count": null,
   "metadata": {},
   "outputs": [],
   "source": [
    "##Input from a user\n",
    "money=int(input(\"how much money do i have :\"))\n",
    "print(money,type(money))"
   ]
  }
 ],
 "metadata": {
  "kernelspec": {
   "display_name": ".venv",
   "language": "python",
   "name": "python3"
  },
  "language_info": {
   "codemirror_mode": {
    "name": "ipython",
    "version": 3
   },
   "file_extension": ".py",
   "mimetype": "text/x-python",
   "name": "python",
   "nbconvert_exporter": "python",
   "pygments_lexer": "ipython3",
   "version": "3.11.1"
  }
 },
 "nbformat": 4,
 "nbformat_minor": 2
}
