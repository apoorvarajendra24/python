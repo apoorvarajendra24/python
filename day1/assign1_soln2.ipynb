{
 "cells": [
  {
   "cell_type": "code",
   "execution_count": null,
   "metadata": {},
   "outputs": [],
   "source": [
    "##Question 14 and 15\n",
    "num=int(input(\"Enter a number\"))\n",
    "square=num**2\n",
    "print(\"Square of the number is\",square)\n",
    "if num%2==0:\n",
    "    print(\"Number is even\")\n",
    "else:\n",
    "    print(\"Number is odd\")"
   ]
  },
  {
   "cell_type": "code",
   "execution_count": null,
   "metadata": {},
   "outputs": [],
   "source": [
    "##Question 16\n",
    "n=int(input(\"Enter a number\"))\n",
    "total=0\n",
    "if n<=0:\n",
    "    print(\"Please enter a positive natural integer starting 1.\")\n",
    "else:\n",
    "    for i in range(1,n+1,1):\n",
    "        total+=i\n",
    "    print(f\"Sum of all {n} natural numbers is {total}\")"
   ]
  },
  {
   "cell_type": "code",
   "execution_count": null,
   "metadata": {},
   "outputs": [],
   "source": [
    "##Question 17\n",
    "year=int(input(\"Enter a year\"))\n",
    "if (year%4==0 and year%100!=0) or (year%400==0):\n",
    "    print(\"The year {} is a leap year\".format(year))\n",
    "else:\n",
    "    print(\"The year {} is not a leap year\".format(year))"
   ]
  },
  {
   "cell_type": "code",
   "execution_count": null,
   "metadata": {},
   "outputs": [],
   "source": [
    "##Question 18\n",
    "string=input(\"Enter a string\")\n",
    "reversed_string = string[::-1]     ##Slicing\n",
    "print(f\"reversed string is :{reversed_string}\")"
   ]
  },
  {
   "cell_type": "code",
   "execution_count": null,
   "metadata": {},
   "outputs": [],
   "source": [
    "##Question 19\n",
    "str1=input(\"Enter a string\")\n",
    "rev1= str1[::-1]                  ##Slicing\n",
    "if str1==rev1:\n",
    "    print(\"String is a palindrome\")\n",
    "else:\n",
    "    print(\"String is not a palindrome\")"
   ]
  },
  {
   "cell_type": "code",
   "execution_count": null,
   "metadata": {},
   "outputs": [],
   "source": [
    "##Question 20"
   ]
  }
 ],
 "metadata": {
  "kernelspec": {
   "display_name": ".venv",
   "language": "python",
   "name": "python3"
  },
  "language_info": {
   "codemirror_mode": {
    "name": "ipython",
    "version": 3
   },
   "file_extension": ".py",
   "mimetype": "text/x-python",
   "name": "python",
   "nbconvert_exporter": "python",
   "pygments_lexer": "ipython3",
   "version": "3.11.1"
  }
 },
 "nbformat": 4,
 "nbformat_minor": 2
}
