{
 "cells": [
  {
   "cell_type": "code",
   "execution_count": null,
   "metadata": {},
   "outputs": [],
   "source": [
    "##Question 1\n",
    "print(\"Hello World\")"
   ]
  },
  {
   "cell_type": "code",
   "execution_count": null,
   "metadata": {},
   "outputs": [],
   "source": [
    "##Question 2\n",
    "user_input=input(\"Enter anything: \")\n",
    "print(\"You entered: \", user_input)"
   ]
  },
  {
   "cell_type": "code",
   "execution_count": null,
   "metadata": {},
   "outputs": [],
   "source": [
    "##Question 3\n",
    "while True :\n",
    "    try:\n",
    "        enter=int(input(\"Enter any number :\"))\n",
    "        if enter > 0:\n",
    "            print(\"{} is positive\".format(enter))\n",
    "        elif enter < 0:\n",
    "            print(\"{} is negative\".format(enter))\n",
    "        else :\n",
    "            print(\"{} is zero\".format(enter))\n",
    "        break\n",
    "    except ValueError:\n",
    "        print(\"invalid value entered. please enter a valid input\")\n"
   ]
  },
  {
   "cell_type": "code",
   "execution_count": null,
   "metadata": {},
   "outputs": [],
   "source": [
    "##Question 4\n",
    "while True:\n",
    "    try:\n",
    "        num1 = int(input(\"Enter first number: \"))\n",
    "        num2 = int(input(\"Enter second number: \"))\n",
    "        num3 = int(input(\"Enter third number: \"))\n",
    "        largest=num1                                ## Or use largest=max(num1,num2,num3)\n",
    "        if num2>=largest:\n",
    "            largest=num2\n",
    "        if num3>=largest:\n",
    "            largest=num3\n",
    "        print(\"{} is the largest\".format(largest))\n",
    "        break\n",
    "    except ValueError:\n",
    "        print(\"Invalid Input. Please enter valid number.\")"
   ]
  },
  {
   "cell_type": "code",
   "execution_count": null,
   "metadata": {},
   "outputs": [],
   "source": [
    "##Question 5\n",
    "num=int(input(\"Enter a number\"))\n",
    "fact=1\n",
    "if num<0:\n",
    "    print(\"Factorial of negative numbers is not defined\")\n",
    "else:\n",
    "    for i in range(num,0,-1):\n",
    "        fact=fact*i                                ## Or import math library and use math.factorial(num)\n",
    "    print(\"Factorial of {} is {}\".format(num,fact))\n"
   ]
  },
  {
   "cell_type": "code",
   "execution_count": null,
   "metadata": {},
   "outputs": [],
   "source": [
    "##Question 6\n",
    "a=10;b=20.1;c=\"Tanvi Bokya\";d=True\n",
    "print(\"Integer is {}, Float value is {}, String value is {}, Boolean value is {}\".format(a,b,c,d))"
   ]
  },
  {
   "cell_type": "code",
   "execution_count": null,
   "metadata": {},
   "outputs": [],
   "source": [
    "##Question 7\n",
    "num1=int(input(\"Enter number 1\"))\n",
    "num2=int(input(\"Enter number 2\"))\n",
    "print(\"Before Swap value of number1 {}, number2 {}\".format(num1,num2))\n",
    "num1,num2=num2,num1\n",
    "print(\"After Swap value of number1 {}, number2 {}\".format(num1,num2))\n"
   ]
  },
  {
   "cell_type": "code",
   "execution_count": null,
   "metadata": {},
   "outputs": [],
   "source": [
    "##Question 8\n",
    "celsius=float(input(\"Enter degree celsius\"))\n",
    "fahrenheit = (celsius * 9/5) + 32\n",
    "print(f\"{celsius}°C is equal to {fahrenheit}°F\")"
   ]
  },
  {
   "cell_type": "code",
   "execution_count": null,
   "metadata": {},
   "outputs": [],
   "source": [
    "##Question 9\n",
    "string1=str(input(\"Enter anything for string 1\"))\n",
    "string2=str(input(\"Enter anything for string 2\"))\n",
    "print(f\"concatenated string is: {(string1+string2)}\")"
   ]
  },
  {
   "cell_type": "code",
   "execution_count": null,
   "metadata": {},
   "outputs": [],
   "source": [
    "##Question 10\n"
   ]
  }
 ],
 "metadata": {
  "kernelspec": {
   "display_name": ".venv",
   "language": "python",
   "name": "python3"
  },
  "language_info": {
   "codemirror_mode": {
    "name": "ipython",
    "version": 3
   },
   "file_extension": ".py",
   "mimetype": "text/x-python",
   "name": "python",
   "nbconvert_exporter": "python",
   "pygments_lexer": "ipython3",
   "version": "3.11.1"
  }
 },
 "nbformat": 4,
 "nbformat_minor": 2
}
