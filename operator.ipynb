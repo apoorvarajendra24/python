{
 "cells": [
  {
   "cell_type": "code",
   "execution_count": null,
   "metadata": {},
   "outputs": [],
   "source": [
    "##Arithmetic Operators\n",
    "a=20\n",
    "b=10\n",
    "\n",
    "print(\"Addition:\",(a+b))           ##add\n",
    "print(\"Subtraction:\",(a-b))        ##sub\n",
    "print(\"Multiplication\",(a*b))      ##mul               \n",
    "print(\"Division:\",(a/b))           ##div\n",
    "print(\"Floor division:\",(a//b))    ##floor div\n",
    "print(\"Modulus:\",(a%b))            ##mod\n",
    "print(\"Exponential:\",(a**b))       ##exponent"
   ]
  },
  {
   "cell_type": "code",
   "execution_count": null,
   "metadata": {},
   "outputs": [],
   "source": [
    "##Comparison Operator\n",
    "x=20\n",
    "y=100\n",
    "a=\"tanvi\"\n",
    "b=\"bokya\"\n",
    "is_equal=(a==b)     ##Equals to\n",
    "print(is_equal)\n",
    "\n",
    "not_equal=(a!=b)    ##Not equals to\n",
    "print(not_equal)\n",
    "\n",
    "is_greater=(x>y)    ##Greater than\n",
    "print(is_greater)\n",
    "\n",
    "is_smaller=(x<y)    ##Smaller than\n",
    "print(is_smaller)"
   ]
  },
  {
   "cell_type": "code",
   "execution_count": null,
   "metadata": {},
   "outputs": [],
   "source": [
    "number1=45\n",
    "number2=47\n",
    "print((number1>=number2))        ##Greater than equals to\n",
    "\n",
    "print((number1<=number2))        ##Less than equals to"
   ]
  },
  {
   "cell_type": "code",
   "execution_count": null,
   "metadata": {},
   "outputs": [],
   "source": [
    "##Logical Operators\n",
    "##Logical operators are used to combine two or more conditions in a single condition. The following are the logical\n",
    "\n",
    "X=True\n",
    "Y=True\n",
    "Z=False\n",
    "## AND operator \n",
    "print(\"And operation\\n\",(X and Y)) # if both the conditions are true then output is true\n",
    "print(X and Z) # if one of the condition is false then output is false\n",
    "print(Z and Z) # if both are false output is false\n",
    "\n",
    "## OR operator\n",
    "print(\"Or operation\\n\",(X or Y)) # if any of the conditions are true then output is true\n",
    "print(X or Z) # if on the condition is false then output is true\n",
    "print(Z or Z) # if both are false output is false\n",
    "\n",
    "## NOT operator\n",
    "print(\"Not operation\\n\",(not X)) # performs logical negation (outputs the opposite of the truth value)"
   ]
  }
 ],
 "metadata": {
  "kernelspec": {
   "display_name": ".venv",
   "language": "python",
   "name": "python3"
  },
  "language_info": {
   "codemirror_mode": {
    "name": "ipython",
    "version": 3
   },
   "file_extension": ".py",
   "mimetype": "text/x-python",
   "name": "python",
   "nbconvert_exporter": "python",
   "pygments_lexer": "ipython3",
   "version": "3.11.1"
  }
 },
 "nbformat": 4,
 "nbformat_minor": 2
}
