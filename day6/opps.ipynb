{
 "cells": [
  {
   "cell_type": "markdown",
   "metadata": {},
   "source": [
    "OOPS concept:\n",
    "\n",
    "The OOPS concept is a fundamental idea in object-oriented programming (OOP).\n",
    "OOPS is a programming paradigm that revolves around the concept of objects and classes. It is a way\n",
    "of designing and organizing code to make it more modular, reusable, and easier to maintain."
   ]
  },
  {
   "cell_type": "markdown",
   "metadata": {},
   "source": [
    "Classes And Objects:\n",
    "\n",
    "1. Classes\n",
    "A class is like a blueprint for creating objects.\n",
    "It defines a set of attributes (variables) and methods (functions) that describe the behavior and properties of the object.\n",
    "Example: Think of a class as a \"blueprint of a car\" that outlines how all cars of that type will look and behave.\n",
    "\n",
    "2. Objects\n",
    "An object is an instance of a class.\n",
    "When a class is defined, no memory is allocated until objects are created.\n",
    "Example: An object is a specific \"car\" made from the blueprint."
   ]
  },
  {
   "cell_type": "code",
   "execution_count": null,
   "metadata": {},
   "outputs": [],
   "source": [
    "class Animal:\n",
    "    def __init__(self,name,breed,sound):   # Constructor to initialize the attributes\n",
    "        self.name = name                   # Attributes of a class\n",
    "        self.breed = breed\n",
    "        self.sound = sound\n",
    "\n",
    "    def breed_sound(self):                     # Methods of class\n",
    "        print(f\"The animal is a {self.name}. it i a {self.breed} and it {self.sound}\")\n",
    "\n",
    "#creating object ot he class\n",
    "dog = Animal('dog','golden retriver','woofs')     # Objects are instantiated when the constructor is called\n",
    "print(dog.name)\n",
    "print(dog.breed)\n",
    "print(dog.sound)\n",
    "dog.breed_sound()\n",
    "\n",
    "cat = Animal('cat','persian','meows')\n",
    "cat.breed_sound()\n"
   ]
  },
  {
   "cell_type": "code",
   "execution_count": null,
   "metadata": {},
   "outputs": [],
   "source": [
    "class BankAccount():\n",
    "    def __init__(self,name,balance=0):\n",
    "        self.name=name\n",
    "        self.balance=balance\n",
    "\n",
    "    def deposit(self,amount):\n",
    "        self.balance += amount\n",
    "        print(f\"{amount} deposited. New balance = {self.balance}\")\n",
    "    \n",
    "    def withdraw(self,amount):\n",
    "        if amount > self.balance:\n",
    "            print(\"Insufficient balance!\")\n",
    "        else:\n",
    "            self.balance -= amount\n",
    "            print(f\"{amount} withdrawn. New balance = {self.balance}\")\n",
    "    \n",
    "    def get_balance(self):\n",
    "        print(f\"Current balance = {self.balance}\")\n",
    "    \n",
    "person1 = BankAccount('goku',10000)\n",
    "person1.deposit(5000)\n",
    "person1.withdraw(250)\n",
    "person1.get_balance()\n",
    "person1.withdraw(1000000)"
   ]
  },
  {
   "cell_type": "code",
   "execution_count": 6,
   "metadata": {},
   "outputs": [
    {
     "name": "stdout",
     "output_type": "stream",
     "text": [
      "The car is driving a petrol car\n"
     ]
    }
   ],
   "source": [
    "class Car():\n",
    "    def __init__(self,windows,doors,engine_type):\n",
    "        self.windows = windows\n",
    "        self.doors = doors\n",
    "        self.engine_type = engine_type\n",
    "    \n",
    "    def drive(self):\n",
    "        print(\"The car is driving a {} car\".format(self.engine_type))\n",
    "\n",
    "car = Car(6,4,'petrol')\n",
    "car.drive() "
   ]
  },
  {
   "cell_type": "code",
   "execution_count": null,
   "metadata": {},
   "outputs": [],
   "source": []
  }
 ],
 "metadata": {
  "kernelspec": {
   "display_name": ".venv",
   "language": "python",
   "name": "python3"
  },
  "language_info": {
   "codemirror_mode": {
    "name": "ipython",
    "version": 3
   },
   "file_extension": ".py",
   "mimetype": "text/x-python",
   "name": "python",
   "nbconvert_exporter": "python",
   "pygments_lexer": "ipython3",
   "version": "3.13.1"
  }
 },
 "nbformat": 4,
 "nbformat_minor": 2
}
