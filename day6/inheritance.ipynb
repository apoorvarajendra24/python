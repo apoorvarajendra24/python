{
 "cells": [
  {
   "cell_type": "markdown",
   "metadata": {},
   "source": [
    "Inheritance:\n",
    "\n",
    "Inheritance in Python is a fundamental concept in object-oriented programming (OOP) where a class (child or subclass) inherits attributes and methods from another class (parent or superclass). It allows you to reuse code from the parent class and extend or modify it in the child class."
   ]
  },
  {
   "cell_type": "code",
   "execution_count": null,
   "metadata": {},
   "outputs": [],
   "source": [
    "class Car():\n",
    "    def __init__(self,windows,doors,engine_type):\n",
    "        self.windows = windows\n",
    "        self.doors = doors\n",
    "        self.engine_type = engine_type\n",
    "    \n",
    "    def drive(self):\n",
    "        print(\"The car is driving a {} car\".format(self.engine_type))\n",
    "\n",
    "car = Car(6,4,'petrol')\n",
    "car.drive()"
   ]
  },
  {
   "cell_type": "code",
   "execution_count": null,
   "metadata": {},
   "outputs": [],
   "source": [
    "#single class inheritance\n",
    "class Tesla(Car):\n",
    "    def __init__(self,windows,doors,engine_type,is_selfdrive=False):\n",
    "        super().__init__(windows,doors,engine_type)             #super() is used to call methods and access attributes from the parent (or superclass) in a child (or subclass).\n",
    "        self.is_selfdrive = is_selfdrive\n",
    "    \n",
    "    def selfdriving(self):\n",
    "        if not self.is_selfdrive:\n",
    "            print(f\"The car is driving a {self.engine_type} but is not selfdriving\")\n",
    "        else:\n",
    "            print(f\"The car is driving a {self.engine_type} and is Selfdriving\")\n",
    "\n",
    "tesla1 = Tesla(6,4,'electric',True)\n",
    "tesla1.selfdriving()\n",
    "\n",
    "tesla1.drive()               # inheriting parent class methods "
   ]
  },
  {
   "cell_type": "code",
   "execution_count": null,
   "metadata": {},
   "outputs": [],
   "source": [
    "# Multiple inheritance\n",
    "# base class 1\n",
    "class Person:\n",
    "    def __init__(self, name, age):\n",
    "        self.name = name\n",
    "        self.age = age\n",
    "\n",
    "    def introduce(self):\n",
    "        print(f\"Hi, I'm {self.name} and I'm {self.age} years old.\")\n",
    "\n",
    "# base class 2\n",
    "class Employee:\n",
    "    def __init__(self, employee_id):\n",
    "        self.employee_id = employee_id\n",
    "\n",
    "    def work(self):\n",
    "        print(f\"Employee ID {self.employee_id} is working.\")\n",
    "\n",
    "# Derived Class inheriting from both Person and Employee\n",
    "class Manager(Person, Employee):\n",
    "    def __init__(self, name, age, employee_id, department):\n",
    "        Person.__init__(self, name, age)  # Initialize Person part\n",
    "        Employee.__init__(self, employee_id)  # Initialize Employee part\n",
    "        self.department = department\n",
    "    \n",
    "    def manage(self):\n",
    "        print(f\"Managing the {self.department} department. with employee id {self.employee_id}\")\n",
    "\n",
    "# Creating an object of the Manager class\n",
    "manager = Manager(\"Alice\", 35, \"M123\", \"Sales\")\n",
    "\n",
    "# Accessing methods from both parent classes\n",
    "manager.introduce()  # From Person class\n",
    "manager.work()       # From Employee class\n",
    "manager.manage()     # From Manager class\n"
   ]
  }
 ],
 "metadata": {
  "kernelspec": {
   "display_name": ".venv",
   "language": "python",
   "name": "python3"
  },
  "language_info": {
   "name": "python",
   "version": "3.13.1"
  }
 },
 "nbformat": 4,
 "nbformat_minor": 2
}
