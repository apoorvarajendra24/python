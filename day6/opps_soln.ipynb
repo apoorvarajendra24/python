{
 "cells": [
  {
   "cell_type": "code",
   "execution_count": null,
   "metadata": {},
   "outputs": [],
   "source": [
    "# Question 1 and 2\n",
    "class Car():\n",
    "    def __init__(self,make,model,year):\n",
    "        self.make = make\n",
    "        self.model = model\n",
    "        self.year = year\n",
    "        self.engine_running = False\n",
    "\n",
    "    def get_car_info(self):\n",
    "        print(f\"Car make : {self.make}\\nCar model : {self.model}\\nCar year : {self.year}\")\n",
    "\n",
    "    def start_engine(self):\n",
    "        if not self.engine_running:\n",
    "            self.engine_running = True\n",
    "            print(f\"The Car is now Running!\")\n",
    "        else:\n",
    "            print(f\"The Car is already running!\")\n",
    "    \n",
    "    def stop_engine(self):\n",
    "        if self.engine_running:\n",
    "            self.engine_running = False\n",
    "            print(f\"The Car is now stopped!\")\n",
    "        else:\n",
    "            print(f\"The Car is already stopped!\")\n",
    "\n",
    "\n",
    "car1 = Car('ferrari','laferrari',2013)\n",
    "car1.get_car_info()\n",
    "car1.start_engine()\n",
    "car1.start_engine()\n",
    "\n",
    "car1.stop_engine()                 # save fuel\n",
    "car1.stop_engine()"
   ]
  },
  {
   "cell_type": "code",
   "execution_count": null,
   "metadata": {},
   "outputs": [],
   "source": [
    "# Question 3\n",
    "class Student():\n",
    "    def __init__(self,name,age):\n",
    "        self.name = name\n",
    "        self.age = age\n",
    "\n",
    "s1 = Student(\"Vegeta\",30)\n",
    "print(s1.name)\n",
    "print(s1.age)"
   ]
  },
  {
   "cell_type": "code",
   "execution_count": null,
   "metadata": {},
   "outputs": [],
   "source": [
    "# Question 4\n",
    "class BankAccount():\n",
    "    def __init__(self,account_holder,account_number,balance=0):\n",
    "        self.account_holder = account_holder\n",
    "        self.__account_number = account_number\n",
    "        self.__balance = balance\n",
    "\n",
    "    def deposit(self,amount):\n",
    "        self.__balance += amount\n",
    "        print(f\"{amount} deposited.\")\n",
    "    \n",
    "    def withdraw(self,amount):\n",
    "        if amount > self.__balance:\n",
    "            print(\"Insufficient balance!\")\n",
    "        else:\n",
    "            self.__balance -= amount\n",
    "            print(f\"{amount} withdrawn.\")\n",
    "    \n",
    "    def get_balance(self):  # Getter method for private balance\n",
    "        return self.__balance\n",
    "\n",
    "    def set_balance(self, balance):  # Setter method for private balance\n",
    "        if balance >= 0:\n",
    "            self.__balance = balance\n",
    "        else:\n",
    "            print(\"Balance cannot be negative.\")\n",
    "\n",
    "    def get_account_number(self):  # Getter method for private account number\n",
    "        return self.__account_number\n",
    "\n",
    "    def get_info(self):\n",
    "        print(f\"Account Holder Name = {self.account_holder}\\nAccount Number = {self.__account_number}\\nCurrent balance = {self.__balance}\")\n",
    "    \n",
    "person1 = BankAccount('goku','A123456789')\n",
    "person1.set_balance(2000)\n",
    "print(person1.get_balance())\n",
    "person1.deposit(5000)\n",
    "person1.withdraw(250)\n",
    "person1.withdraw(1000000)\n",
    "person1.get_info()"
   ]
  },
  {
   "cell_type": "code",
   "execution_count": null,
   "metadata": {},
   "outputs": [],
   "source": [
    "class Animal:\n",
    "    def __init__(self, name):\n",
    "        self.name = name  # Attribute in parent class\n",
    "\n",
    "    def speak(self):\n",
    "        print(f\"{self.name} makes a sound\")  # Method in parent class\n",
    "\n",
    "class Dog(Animal):  # Dog is the child class\n",
    "    def __init__(self, name, breed):\n",
    "        super().__init__(name)  # Inherit from parent class (Animal)\n",
    "        self.breed = breed  # Additional attribute in child class\n",
    "\n",
    "    def speak(self):  # Overriding the parent method\n",
    "        print(f\"{self.name} barks\")\n",
    "\n",
    "# Creating an object of the Dog class\n",
    "dog = Dog(\"Buddy\", \"Golden Retriever\")\n",
    "\n",
    "# Accessing inherited property and method\n",
    "print(dog.name)  # Inherited from Animal (parent class)\n",
    "dog.speak()      # Overridden method in Dog (child class)\n"
   ]
  },
  {
   "cell_type": "code",
   "execution_count": null,
   "metadata": {},
   "outputs": [],
   "source": [
    "# Question 5\n",
    "class Person():\n",
    "    def __init__(self, name, age):\n",
    "        self.name = name\n",
    "        self.age = age\n",
    "    \n",
    "class Employee(Person):\n",
    "    def __init__(self, name, age, employee_id):\n",
    "        super().__init__(name, age)\n",
    "        self.employee_id = employee_id\n",
    "\n",
    "emp1 = Employee(\"Gohan\",23,\"E24\")\n",
    "print(emp1.name)\n",
    "print(emp1.age)\n",
    "print(emp1.employee_id)"
   ]
  },
  {
   "cell_type": "code",
   "execution_count": 2,
   "metadata": {},
   "outputs": [
    {
     "name": "stdout",
     "output_type": "stream",
     "text": [
      "Employee(Name: John Doe, Position: Software Engineer, Salary: $85000)\n"
     ]
    }
   ],
   "source": [
    "# Question 6\n",
    "class Employee:\n",
    "    def __init__(self, name, position, salary):\n",
    "        self.name = name\n",
    "        self.position = position\n",
    "        self.salary = salary\n",
    "\n",
    "    # Overriding the __str__ method\n",
    "    def __str__(self):         # The __str__ method is used to define a human-readable string representation of an object.\n",
    "        return f\"Employee(Name: {self.name}, Position: {self.position}, Salary: ${self.salary})\"\n",
    "\n",
    "# Creating an object of the Employee class\n",
    "emp = Employee(\"John Doe\", \"Software Engineer\", 85000)\n",
    "print(emp)\n"
   ]
  },
  {
   "cell_type": "code",
   "execution_count": 5,
   "metadata": {},
   "outputs": [
    {
     "name": "stdout",
     "output_type": "stream",
     "text": [
      "Sherlock Holmes,36,24 baker street,London,England,200004\n"
     ]
    }
   ],
   "source": [
    "# Question 7\n",
    "class Address():\n",
    "    def __init__(self, street, city, state, zip_code):\n",
    "        self.street = street\n",
    "        self.city = city\n",
    "        self.state = state\n",
    "        self.zip_code = zip_code\n",
    "\n",
    "    def __str__(self):\n",
    "        return f\"{self.street},{self.city},{self.state},{self.zip_code}\"\n",
    "    \n",
    "\n",
    "class Person():\n",
    "    def __init__(self, name, age, address):\n",
    "        self.name = name\n",
    "        self.age = age\n",
    "        self.address = address\n",
    "    \n",
    "    def __str__(self):\n",
    "        return f\"{self.name},{self.age},{self.address}\"\n",
    "\n",
    "\n",
    "home_address = Address(\"24 baker street\",\"London\",\"England\",\"200004\")\n",
    "\n",
    "person = Person(\"Sherlock Holmes\",36,home_address)\n",
    "\n",
    "print(person.__str__())"
   ]
  },
  {
   "cell_type": "code",
   "execution_count": 7,
   "metadata": {},
   "outputs": [
    {
     "name": "stdout",
     "output_type": "stream",
     "text": [
      "The count is 3\n"
     ]
    },
    {
     "data": {
      "text/plain": [
       "'Counter.count (Class Variable):\\n\\nBelongs to the class itself.\\nShared by all objects of the class.\\nIf you change it, the change is visible to all objects.\\n\\nself.count (Instance Variable):\\nBelongs to a specific object (instance of the class).\\nEach object can have its own separate value for self.count.\\nChanging it affects only that object.'"
      ]
     },
     "execution_count": 7,
     "metadata": {},
     "output_type": "execute_result"
    }
   ],
   "source": [
    "# question 8\n",
    "class Counter():\n",
    "    count = 0                    # Class variable\n",
    "    def __init__(self):\n",
    "        Counter.count += 1     \n",
    "    \n",
    "    def get_cout(self):\n",
    "        return Counter.count\n",
    "\n",
    "count1 = Counter()\n",
    "count2 = Counter()\n",
    "count3 = Counter()\n",
    "\n",
    "print(f\"The count is {count3.get_cout()}\")\n",
    "\n",
    "\n",
    "\"\"\"Counter.count (Class Variable):\n",
    "\n",
    "Belongs to the class itself.\n",
    "Shared by all objects of the class.\n",
    "If you change it, the change is visible to all objects.\n",
    "\n",
    "self.count (Instance Variable):\n",
    "Belongs to a specific object (instance of the class).\n",
    "Each object can have its own separate value for self.count.\n",
    "Changing it affects only that object.\"\"\""
   ]
  }
 ],
 "metadata": {
  "kernelspec": {
   "display_name": ".venv",
   "language": "python",
   "name": "python3"
  },
  "language_info": {
   "codemirror_mode": {
    "name": "ipython",
    "version": 3
   },
   "file_extension": ".py",
   "mimetype": "text/x-python",
   "name": "python",
   "nbconvert_exporter": "python",
   "pygments_lexer": "ipython3",
   "version": "3.13.1"
  }
 },
 "nbformat": 4,
 "nbformat_minor": 2
}
