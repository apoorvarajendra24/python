{
 "cells": [
  {
   "cell_type": "markdown",
   "metadata": {},
   "source": [
    "Encapsulation:\n",
    "\n",
    "Encapsulation is a concept in object-oriented programming that is about bundling data (attributes) and methods (functions) together within a class. It also involves restricting access to the internal details of the object to ensure better control and security.\n",
    "In simple words:\n",
    "\n",
    "It hides the internal details of how something works.\n",
    "It allows you to control how the data is accessed or modified.\n",
    "It helps to prevent data corruption and misuse.\n",
    "\n",
    "Key Features of Encapsulation:\n",
    "\n",
    "Private Attributes:\n",
    "\n",
    "Attributes or methods can be made private by using a double underscore prefix (__).\n",
    "Private attributes cannot be accessed directly outside the class.\n",
    "Getter and Setter Methods:\n",
    "These methods are used to read (get) or update (set) private attributes safely."
   ]
  },
  {
   "cell_type": "code",
   "execution_count": null,
   "metadata": {},
   "outputs": [],
   "source": [
    "class Employee():\n",
    "    def __init__(self, name, age, salary):\n",
    "        self.name = name                # Public attribute can be accessed from anywhere in the code\n",
    "        self.age = age                  # same as above, a public attribute\n",
    "        self.__salary = salary          # Private attribte with double undescore, scope is limited within a class only. cannot directly access from the outside of the class\n",
    "\n",
    "    # To access the private attributes we have use setters and getters\n",
    "    def get_salary(self):\n",
    "        return self.__salary\n",
    "\n",
    "emp1 = Employee('Tobirama',45,50000)\n",
    "print(emp1.name)  # Accessing public attribute\n",
    "print(emp1.age)   # Accessing public attribute\n",
    "try:\n",
    "    print(emp1.__salary)  # Accessing private attribute, it will throw an error\n",
    "except AttributeError:\n",
    "    print(\"Private attribute cannot be accessed directly\")\n",
    "\n",
    "print(emp1.get_salary())  # getter function to access salary"
   ]
  },
  {
   "cell_type": "code",
   "execution_count": 17,
   "metadata": {},
   "outputs": [
    {
     "name": "stdout",
     "output_type": "stream",
     "text": [
      "I am protected attribute\n",
      "I am protected attribute from child class\n",
      "I am modified attribute\n",
      "I am modified attribute\n"
     ]
    }
   ],
   "source": [
    "# Protected attribute are intended to be accesible within the class and its derived class.\n",
    "\n",
    "class Example():\n",
    "    def __init__(self):\n",
    "        self._protected_attr = \"I am protected attribute\"\n",
    "\n",
    "    def show_protected(self):\n",
    "        return self._protected_attr\n",
    "    # Accessing protected attribute from outside the class is not recommended.\n",
    "class Child(Example):\n",
    "    def show_protected(self):\n",
    "        return self._protected_attr + \" from child class\"\n",
    "    \n",
    "    def modify_protected(self,new_value):\n",
    "        self._protected_attr = new_value\n",
    "\n",
    "    def show_modified_protected(self):\n",
    "        return self._protected_attr\n",
    "    \n",
    "example = Example()\n",
    "child = Child()\n",
    "\n",
    "print(example.show_protected())\n",
    "print(child.show_protected())\n",
    "child.modify_protected(\"I am modified attribute\")\n",
    "\n",
    "print(child.show_modified_protected())\n",
    "\n",
    "# we can also access the protected attributes of base class with the objects of derived class outside the scope of the protected attribute i.e, from outside of the class\n",
    "# but this method is discouraged by convention.\n",
    "print(child._protected_attr)"
   ]
  },
  {
   "cell_type": "code",
   "execution_count": 18,
   "metadata": {},
   "outputs": [
    {
     "name": "stdout",
     "output_type": "stream",
     "text": [
      "Gogeta\n",
      "20\n",
      "25\n"
     ]
    }
   ],
   "source": [
    "# getter and setter to access access modifiers\n",
    "\n",
    "class Person():\n",
    "    def __init__(self,name,age):\n",
    "        self.__name = name\n",
    "        self.__age = age\n",
    "    \n",
    "    def get_name(self):\n",
    "        return self.__name\n",
    "    \n",
    "    def set_name(self,name):\n",
    "        self.__name = name\n",
    "    \n",
    "    def get_age(self):\n",
    "        return self.__age\n",
    "\n",
    "    def set_age(self,age):\n",
    "        if age > 0 :\n",
    "            self.__age = age\n",
    "        else:\n",
    "            print(\"Invalid age. Age cannot be negative\")\n",
    "\n",
    "person = Person(\"Gogeta\",20)\n",
    "print(person.get_name())\n",
    "print(person.get_age())\n",
    "\n",
    "person.set_age(25)\n",
    "print(person.get_age())"
   ]
  },
  {
   "cell_type": "markdown",
   "metadata": {},
   "source": [
    "Abstraction:\n",
    "\n",
    "abstraction is the concept of hiding the complex implementation details and showing only the neceessary features of an object. \n",
    "\n",
    "this hepls in reducing programming complexity and efforts."
   ]
  },
  {
   "cell_type": "code",
   "execution_count": 1,
   "metadata": {},
   "outputs": [
    {
     "name": "stdout",
     "output_type": "stream",
     "text": [
      "The bike engine is started\n",
      "The vehicle is used for driving\n"
     ]
    }
   ],
   "source": [
    "from abc import ABC, abstractmethod\n",
    "\n",
    "class Vehicle(ABC):\n",
    "    def drive(self):\n",
    "        print(\"The vehicle is used for driving\")\n",
    "\n",
    "    @abstractmethod\n",
    "    def start_engine(self):\n",
    "        pass\n",
    "\n",
    "class Bike(Vehicle):\n",
    "    def start_engine(self):\n",
    "        print(\"The bike engine is started\")\n",
    "\n",
    "\n",
    "def vehicle_start(vehicle):\n",
    "    vehicle.start_engine()\n",
    "    vehicle.drive()\n",
    "\n",
    "bike = Bike()\n",
    "vehicle_start(bike)"
   ]
  }
 ],
 "metadata": {
  "kernelspec": {
   "display_name": ".venv",
   "language": "python",
   "name": "python3"
  },
  "language_info": {
   "codemirror_mode": {
    "name": "ipython",
    "version": 3
   },
   "file_extension": ".py",
   "mimetype": "text/x-python",
   "name": "python",
   "nbconvert_exporter": "python",
   "pygments_lexer": "ipython3",
   "version": "3.13.1"
  }
 },
 "nbformat": 4,
 "nbformat_minor": 2
}
