{
 "cells": [
  {
   "cell_type": "markdown",
   "metadata": {},
   "source": [
    "Polymorphism:\n",
    "\n",
    "polymorphism means that one function or method can work with different types of objects, and the behavior of the method can change depending on which object it is called on.\n",
    "\n",
    "Method overriding:\n",
    "\n",
    "Method overriding means that a child class provides its own version of a method that already exists in the parent class.\n",
    "When the child class method is called, it overrides the parent's method, meaning the child's version is used instead."
   ]
  },
  {
   "cell_type": "code",
   "execution_count": null,
   "metadata": {},
   "outputs": [],
   "source": [
    "# Parent class\n",
    "class Animal:\n",
    "    def speak(self):\n",
    "        print(\"Animal makes a sound\")\n",
    "\n",
    "# Child class\n",
    "class Dog(Animal):\n",
    "    def speak(self):  # Overriding the parent class method\n",
    "        print(\"Dog barks\")\n",
    "\n",
    "# Another child class\n",
    "class Cat(Animal):\n",
    "    def speak(self):  # Overriding the parent class method\n",
    "        print(\"Cat meows\")\n",
    "\n",
    "# Creating objects of child classes\n",
    "dog = Dog()\n",
    "cat = Cat()\n",
    "\n",
    "# Both objects use the same method name but exhibit different behavior\n",
    "dog.speak()  \n",
    "cat.speak()  \n",
    "\n",
    "def animal_speak(animal):   # Polymorphism\n",
    "    return animal.speak()\n",
    "\n",
    "animal_speak(dog)"
   ]
  },
  {
   "cell_type": "code",
   "execution_count": 19,
   "metadata": {},
   "outputs": [
    {
     "name": "stdout",
     "output_type": "stream",
     "text": [
      "area of rectangle : 50\n",
      "area of circle : 78.5\n"
     ]
    }
   ],
   "source": [
    "# Polymorphism with Functions\n",
    "# Base class\n",
    "class Shape():\n",
    "    def area():\n",
    "        return \"The area of the shape\"\n",
    "\n",
    "# Derived class\n",
    "class Rectangle():\n",
    "    def __init__(self,width,height):\n",
    "        self.width = width\n",
    "        self.height = height\n",
    "    \n",
    "    def area(self):\n",
    "        return self.width * self.height\n",
    "\n",
    "# Derived class    \n",
    "class Circle():\n",
    "    def __init__(self,radius):\n",
    "        self.radius = radius\n",
    "    \n",
    "    def area(self):\n",
    "        return 3.14 * (self.radius ** 2)\n",
    "    \n",
    "# Public fuction defining polymorphism\n",
    "def calculate_area(shape):        # behaviour of this function depends upon the type of object passed to it.\n",
    "    return shape.area()\n",
    "\n",
    "# Instantiate Objects of the class\n",
    "rect = Rectangle(5,10)\n",
    "circle = Circle(5)\n",
    "\n",
    "# Call the function with objects of the class\n",
    "print(f\"area of rectangle : {calculate_area(rect)}\")\n",
    "print(f\"area of circle : {calculate_area(circle)}\")\n",
    "\n",
    "# here objects use the same name of methods but performs different tasks. which defines POLYMORPHISM."
   ]
  },
  {
   "cell_type": "markdown",
   "metadata": {},
   "source": [
    "Polymorphism with Abstract Base Classes\n",
    "\n",
    "Abstract base classes are used to define common methods for a group of related objects. They can enforce that derived classes implement particular methods, promoting consistency across different implementations.\n",
    "\n",
    "yeh kehna chahta hai ki parent class ek template banayega or child ko usse use krke apne tariko se implementation krna padega."
   ]
  },
  {
   "cell_type": "code",
   "execution_count": 20,
   "metadata": {},
   "outputs": [
    {
     "name": "stdout",
     "output_type": "stream",
     "text": [
      "Car engine started\n",
      "Car engine stopped\n",
      "Bike engine started\n",
      "Bike engine stopped\n"
     ]
    }
   ],
   "source": [
    "from abc import ABC, abstractmethod\n",
    "\n",
    "# Abstract base class : empty class with abstract methods with no body, body implemented and provided by child.\n",
    "class Vehicle(ABC):\n",
    "    @abstractmethod\n",
    "    def start_engine(self):\n",
    "        pass\n",
    "\n",
    "    @abstractmethod\n",
    "    def stop_engine(self):\n",
    "        pass\n",
    "\n",
    "# Derived class\n",
    "class Car(Vehicle):\n",
    "    def start_engine(self):\n",
    "        return \"Car engine started\"\n",
    "    \n",
    "    def stop_engine(self):\n",
    "        return \"Car engine stopped\"\n",
    "    \n",
    "class Bike(Vehicle):\n",
    "    def start_engine(self):\n",
    "        return \"Bike engine started\"\n",
    "    \n",
    "    def stop_engine(self):\n",
    "        return \"Bike engine stopped\"\n",
    "    \n",
    "vehicle_mode = [Car(), Bike()]\n",
    "for vehicle in vehicle_mode:\n",
    "    print(vehicle.start_engine())\n",
    "    print(vehicle.stop_engine())\n"
   ]
  }
 ],
 "metadata": {
  "kernelspec": {
   "display_name": ".venv",
   "language": "python",
   "name": "python3"
  },
  "language_info": {
   "codemirror_mode": {
    "name": "ipython",
    "version": 3
   },
   "file_extension": ".py",
   "mimetype": "text/x-python",
   "name": "python",
   "nbconvert_exporter": "python",
   "pygments_lexer": "ipython3",
   "version": "3.13.1"
  }
 },
 "nbformat": 4,
 "nbformat_minor": 2
}
