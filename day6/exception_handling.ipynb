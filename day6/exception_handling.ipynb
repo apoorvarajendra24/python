{
 "cells": [
  {
   "cell_type": "markdown",
   "metadata": {},
   "source": [
    "Exception handling allows you to handle errors gracefully and take corrective actions without stopping the execution of the program.\n",
    "\n",
    "Exceptions are the events that disrupts the normal flow of the program. They occur when an error is encountered during the program execution."
   ]
  },
  {
   "cell_type": "code",
   "execution_count": 14,
   "metadata": {},
   "outputs": [
    {
     "name": "stdout",
     "output_type": "stream",
     "text": [
      "Variable b is not defined: name 'b' is not defined\n"
     ]
    }
   ],
   "source": [
    "try:\n",
    "    a = b\n",
    "except NameError as ne:\n",
    "    print(f\"Variable b is not defined: {ne}\")"
   ]
  },
  {
   "cell_type": "code",
   "execution_count": 5,
   "metadata": {},
   "outputs": [
    {
     "name": "stdout",
     "output_type": "stream",
     "text": [
      "Cannot divide by zero: division by zero\n",
      "Enter dinominator greater than 0\n"
     ]
    }
   ],
   "source": [
    "try:\n",
    "    div = 1/0\n",
    "    print(div)\n",
    "except ZeroDivisionError as ze:\n",
    "    print(f\"Cannot divide by zero: {ze}\")\n",
    "    print(\"Enter dinominator greater than 0\")"
   ]
  },
  {
   "cell_type": "code",
   "execution_count": 19,
   "metadata": {},
   "outputs": [
    {
     "name": "stdout",
     "output_type": "stream",
     "text": [
      "An error occurred: name 'd' is not defined\n"
     ]
    }
   ],
   "source": [
    "# Exception class: parent class of all the exceptions\n",
    "try:\n",
    "    mod = 1 % 1\n",
    "    c = d\n",
    "    print(mod)\n",
    "except ZeroDivisionError as ze:\n",
    "    print(f\"Cannot divide by zero: {ze}\")\n",
    "\n",
    "except Exception as ex:\n",
    "    print(f\"An error occurred: {ex}\")"
   ]
  },
  {
   "cell_type": "code",
   "execution_count": 30,
   "metadata": {},
   "outputs": [
    {
     "name": "stdout",
     "output_type": "stream",
     "text": [
      "the result is: 12.5\n"
     ]
    }
   ],
   "source": [
    "# Else block\n",
    "try:\n",
    "    num = int(input(\"Enter a number\"))\n",
    "    result = 100/num\n",
    "\n",
    "except ValueError as ve:\n",
    "    print(f\"Enter a valid number: {ve}\")\n",
    "except ZeroDivisionError as ze:\n",
    "    print(f\"Cannot divide by zero: {ze}\")\n",
    "except Exception as ex:\n",
    "    print(f\"An error occurred: {ex}\")\n",
    "else:                                    # gets executed if no exception is found in try\n",
    "    print(f\"the result is: {result}\")"
   ]
  },
  {
   "cell_type": "code",
   "execution_count": null,
   "metadata": {},
   "outputs": [],
   "source": [
    "# finally block\n",
    "try:\n",
    "    num = int(input(\"Enter a number\"))\n",
    "    result = 100/num\n",
    "\n",
    "except ValueError as ve:\n",
    "    print(f\"Enter a valid number: {ve}\")\n",
    "except ZeroDivisionError as ze:\n",
    "    print(f\"Cannot divide by zero: {ze}\")\n",
    "except Exception as ex:\n",
    "    print(f\"An error occurred: {ex}\")\n",
    "else:                                 # wont execute if error occurs\n",
    "    print(f\"the result is: {result}\")\n",
    "\n",
    "finally:                              # execute even if an error is occured\n",
    "    print(\"Execution successful\")"
   ]
  }
 ],
 "metadata": {
  "kernelspec": {
   "display_name": ".venv",
   "language": "python",
   "name": "python3"
  },
  "language_info": {
   "codemirror_mode": {
    "name": "ipython",
    "version": 3
   },
   "file_extension": ".py",
   "mimetype": "text/x-python",
   "name": "python",
   "nbconvert_exporter": "python",
   "pygments_lexer": "ipython3",
   "version": "3.13.1"
  }
 },
 "nbformat": 4,
 "nbformat_minor": 2
}
