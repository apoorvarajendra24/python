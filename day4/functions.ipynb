{
 "cells": [
  {
   "cell_type": "markdown",
   "metadata": {},
   "source": [
    "Functions\n",
    "\n",
    "A function is a block of code that performs a specific task. Functions help in organizing code, reusing code and improving readabillity."
   ]
  },
  {
   "cell_type": "code",
   "execution_count": 6,
   "metadata": {},
   "outputs": [],
   "source": [
    "#Syntax\n",
    "def function_name(argument):\n",
    "    \"\"\"docstring\"\"\"\n",
    "    # code here/ body of function\n",
    "    return result"
   ]
  },
  {
   "cell_type": "code",
   "execution_count": null,
   "metadata": {},
   "outputs": [],
   "source": [
    "number = 18\n",
    "if number % 2 == 0:\n",
    "    print(\"Number is even\")\n",
    "else:\n",
    "    print(\"Number is odd\")\n",
    "\n",
    "def even_odd(number):          ##function definition\n",
    "    if number % 2 == 0:\n",
    "        return \"Number is even\"\n",
    "    else:\n",
    "        return \"Number is odd\"\n",
    "even_odd(45)                   ##Function call"
   ]
  },
  {
   "cell_type": "code",
   "execution_count": null,
   "metadata": {},
   "outputs": [],
   "source": [
    "##Function with multiple parameters\n",
    "def calculate_bill(price, quantity, tax_rate, discount=0):\n",
    "    \"\"\"\n",
    "    Calculate the total bill amount after applying tax and discount.\n",
    "\n",
    "    Parameters:\n",
    "    - price (float): Price of a single item\n",
    "    - quantity (int): Number of items purchased\n",
    "    - tax_rate (float): Tax rate as a percentage\n",
    "    - discount (float, optional): Discount amount (default is 0)\n",
    "\n",
    "    Returns:\n",
    "    - float: The total bill amount\n",
    "    \"\"\"\n",
    "    # Calculate subtotal\n",
    "    subtotal = price * quantity\n",
    "    \n",
    "    # Apply discount\n",
    "    subtotal -= discount\n",
    "    \n",
    "    # Calculate tax\n",
    "    tax = subtotal * (tax_rate / 100)\n",
    "    \n",
    "    # Total amount\n",
    "    total = subtotal + tax\n",
    "    \n",
    "    return total\n",
    "bill = calculate_bill(price=100, quantity=2, tax_rate=5, )#discount=10)\n",
    "print(f\"The total bill amount is: {bill:.2f}\")"
   ]
  },
  {
   "cell_type": "code",
   "execution_count": null,
   "metadata": {},
   "outputs": [],
   "source": [
    "def hello(name):\n",
    "    print(f\"Hello {name}. how are you?\")\n",
    "try:\n",
    "    hello() \n",
    "except TypeError:\n",
    "    print(\"You need to pass a name to the function. ERROR: hello() missing 1 required positional argument: name\")"
   ]
  },
  {
   "cell_type": "code",
   "execution_count": null,
   "metadata": {},
   "outputs": [],
   "source": [
    "\"\"\"Default parameter:  allow you to specify a default value for a function's parameter.\n",
    "if caller does not provide with a value, default is used,\"\"\"\n",
    "\n",
    "def greet(name,message=\"Good Morning!!\"):\n",
    "    print(f\"{message} {name}\")\n",
    "\n",
    "greet(\"john\")               #default gets used\n",
    "greet(\"naruto\",\"datebayo\")  #Overrides the default value"
   ]
  },
  {
   "cell_type": "markdown",
   "metadata": {},
   "source": [
    " Variable-Length Arguments\n",
    "\n",
    " variable-length arguments allow you to pass an arbitrary number of arguments to a function. This is useful when the number of arguments is not known beforehand. Python provides two types of variable-length arguments:\n",
    "\n",
    "1. *args (Non-Keyword Variable-Length Arguments):\n",
    "Collects additional positional arguments as a tuple.\n",
    "Use when you want to handle multiple positional arguments.\n",
    "\n",
    "2. **kwargs (Keyword Variable-Length Arguments):\n",
    "Collects additional keyword arguments as a dictionary.\n",
    "Use when you want to handle multiple named arguments.\n",
    "\n",
    "NOTE: When combinng both, all the positional arguments must be before the keyword argument"
   ]
  },
  {
   "cell_type": "code",
   "execution_count": null,
   "metadata": {},
   "outputs": [],
   "source": [
    "## Positional argument\n",
    "def numbers(*args):\n",
    "    for num in args:\n",
    "        print(f\"positional arg for: {num}\")\n",
    "    return sum(args)                            ##return statement: function returns a value/s.\n",
    "total = numbers(1,2,3,4,5,6,7,8,9)\n",
    "print(total)"
   ]
  },
  {
   "cell_type": "code",
   "execution_count": null,
   "metadata": {},
   "outputs": [],
   "source": [
    "## Keyword argument\n",
    "def name_val(**kwrgs):\n",
    "    for keys,values in kwrgs.items():\n",
    "        print(f\"{keys} = {values}\")\n",
    "        \n",
    "name_val(name=\"John\",age=25,county=\"usa\")"
   ]
  },
  {
   "cell_type": "code",
   "execution_count": null,
   "metadata": {},
   "outputs": [],
   "source": [
    "## Both arguments\n",
    "def num_and_dict(*args,**kwrgs):\n",
    "    for num in args:\n",
    "        print(num)\n",
    "    \n",
    "    for keys,values in kwrgs.items():\n",
    "        print(f\"{keys}:{values}\")\n",
    "\n",
    "num_and_dict(1,2,3,name=\"hashiram\",power=\"wood style\")"
   ]
  }
 ],
 "metadata": {
  "kernelspec": {
   "display_name": ".venv",
   "language": "python",
   "name": "python3"
  },
  "language_info": {
   "codemirror_mode": {
    "name": "ipython",
    "version": 3
   },
   "file_extension": ".py",
   "mimetype": "text/x-python",
   "name": "python",
   "nbconvert_exporter": "python",
   "pygments_lexer": "ipython3",
   "version": "3.13.1"
  }
 },
 "nbformat": 4,
 "nbformat_minor": 2
}
