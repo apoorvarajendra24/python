{
 "cells": [
  {
   "cell_type": "code",
   "execution_count": null,
   "metadata": {},
   "outputs": [],
   "source": [
    "#Question 2\n",
    "def name_val(a,**kwrgs):\n",
    "    a += 20\n",
    "    for keys,values in kwrgs.items():\n",
    "        kwrgs[keys] = values + a\n",
    "        print(f\"{keys} = {values}\")\n",
    "    return kwrgs\n",
    "name_val(20, x=10,y=30,z=20)"
   ]
  },
  {
   "cell_type": "code",
   "execution_count": null,
   "metadata": {},
   "outputs": [],
   "source": [
    "# Question 3\n",
    "def name_val(**kwrgs):\n",
    "    int_value = {}\n",
    "    for keys,values in kwrgs.items():\n",
    "        if isinstance(values,int):\n",
    "            int_value.update({keys:values})\n",
    "    return int_value\n",
    "print(name_val(c=\"vegeta\",x=10,y=30,z=20,a='goku',b='gohan'))\n",
    "\n",
    "# alternate method\n",
    "def name_val1(**kwrgs):\n",
    "    keys_to_be_deleted = [keys for keys,values in kwrgs.items() if not isinstance(values,int)]\n",
    "    for keys in keys_to_be_deleted:\n",
    "        del kwrgs[keys]\n",
    "    return kwrgs\n",
    "print(name_val1(g=\"vegeta\",x=10,y=30,z=20,a='goku',b='gohan',f=35))"
   ]
  },
  {
   "cell_type": "code",
   "execution_count": null,
   "metadata": {},
   "outputs": [],
   "source": [
    "# Question 4\n",
    "def double(num):\n",
    "    return num * 2\n",
    "\n",
    "def square(num):\n",
    "    return num ** 2 \n",
    "\n",
    "def main_func(callback_func,list1):\n",
    "    new_list = []\n",
    "    for i in list1:\n",
    "        new_list.append(callback_func(i)) \n",
    "    return new_list\n",
    "\n",
    "print(main_func(double,[1,2,3,4,5,6]))\n",
    "print(main_func(square,[1,2,3,4,5,6]))"
   ]
  },
  {
   "cell_type": "code",
   "execution_count": null,
   "metadata": {},
   "outputs": [],
   "source": [
    "# Question 5\n",
    "def another_function(num):\n",
    "    return num ** 2\n",
    "def function():\n",
    "    return another_function\n",
    "\n",
    "square = function()\n",
    "print(square(10))\n"
   ]
  },
  {
   "cell_type": "code",
   "execution_count": null,
   "metadata": {},
   "outputs": [],
   "source": [
    "# Question 6\n",
    "import time\n",
    "\n",
    "def my_decorator(func):\n",
    "    def wrapper(*args, **kwargs):  # Accept arguments\n",
    "        start_time = time.time()\n",
    "        result = func(*args, **kwargs)  # Call the original function\n",
    "        end_time = time.time()\n",
    "        total_time = end_time - start_time\n",
    "        print(f\"Function {func.__name__} took {total_time:.4f} seconds to run\")\n",
    "        return result\n",
    "    return wrapper\n",
    "@my_decorator\n",
    "def my_function(num1, num2):       # my_function replaced as wrapper \n",
    "    time.sleep(2)\n",
    "    add = num1 + num2\n",
    "    sub = num1 - num2\n",
    "    mul = num1 * num2\n",
    "    div = num1 / num2\n",
    "    return add, sub, mul, div\n",
    "\n",
    "# Call the function\n",
    "result = my_function(10, 2)\n",
    "print(\"Results:\", result)\n"
   ]
  },
  {
   "cell_type": "code",
   "execution_count": null,
   "metadata": {},
   "outputs": [],
   "source": [
    "# Question 7\n",
    "def filter_func(num):\n",
    "    return list(filter(lambda x: x%2 == 0,num))\n",
    "\n",
    "def map_func(filter_func):\n",
    "    return list(map(lambda x: x * 2,filter_func))\n",
    "\n",
    "def higher_order_function(filter_func,map_func,my_list):\n",
    "    result = []\n",
    "    result.append(map_func(filter_func(my_list)))\n",
    "    return result\n",
    "\n",
    "higher_order_function(filter_func,map_func,[1,2,3,4,5,6,7,8,9,10])"
   ]
  },
  {
   "cell_type": "code",
   "execution_count": null,
   "metadata": {},
   "outputs": [],
   "source": [
    "# Question 8\n",
    "def g(x):\n",
    "    result = [i*2 for i in x]\n",
    "    print(f\"After g(x): {result}\")\n",
    "    return result\n",
    "def f(g):\n",
    "    result = [i+1 for i in g]\n",
    "    print(f\"After f(g): {result}\")\n",
    "    return result\n",
    "def h(x):\n",
    "    return f(g(x))\n",
    "h([x for x in range(1,5)])"
   ]
  },
  {
   "cell_type": "code",
   "execution_count": null,
   "metadata": {},
   "outputs": [],
   "source": [
    "# Question 9\n",
    "import functools\n",
    "def multi(x,y):\n",
    "    return x * y\n",
    "multiply = functools.partial(multi,2)\n",
    "print(multiply(5))\n",
    "y = [1,2,3,4,5]\n",
    "result = list(map(multiply,y))\n",
    "print(result)"
   ]
  },
  {
   "cell_type": "code",
   "execution_count": null,
   "metadata": {},
   "outputs": [],
   "source": [
    "# Question 10\n",
    "def average(my_list):\n",
    "    if my_list == []:\n",
    "        return \"List is empty. No average\"\n",
    "    else:\n",
    "        return sum(my_list) / len(my_list)\n",
    "\n",
    "average([1,2,3,4,5,6,7,8,9,10])"
   ]
  },
  {
   "cell_type": "code",
   "execution_count": 73,
   "metadata": {},
   "outputs": [
    {
     "data": {
      "text/plain": [
       "[0, 1, 1, 2, 3, 5, 8, 13, 21, 34, 55, 89, 144, 233, 377, 610, 987, 1597]"
      ]
     },
     "execution_count": 73,
     "metadata": {},
     "output_type": "execute_result"
    }
   ],
   "source": [
    "# Question 11\n",
    "def generate(n):\n",
    "    a,b = 0,1\n",
    "    fib = []\n",
    "    for i in range(2,n):\n",
    "        fib.append(a)\n",
    "        a,b = b,a+b\n",
    "    return fib\n",
    "generate(20)"
   ]
  },
  {
   "cell_type": "code",
   "execution_count": 101,
   "metadata": {},
   "outputs": [
    {
     "data": {
      "text/plain": [
       "(['hello', 'goku', 'gohan'], [1, 2, 3], [2.3], [])"
      ]
     },
     "execution_count": 101,
     "metadata": {},
     "output_type": "execute_result"
    }
   ],
   "source": [
    "# Question 14\n",
    "def data_type(mixed_list):\n",
    "    str_list = []\n",
    "    int_list = []\n",
    "    float_list = []\n",
    "    bool_list = []\n",
    "    result_list = []\n",
    "    for i in mixed_list:\n",
    "        if isinstance(i, str):\n",
    "            str_list.append(i)\n",
    "        elif isinstance(i, bool):\n",
    "            bool_list.append(i)\n",
    "        elif isinstance(i,int):\n",
    "            int_list.append(i)\n",
    "        elif isinstance(i,float):\n",
    "            float_list.append(i)\n",
    "\n",
    "    return str_list, int_list, float_list, bool_list\n",
    "\n",
    "data_type([\"hello\",2.3,\"goku\",1,2,3,\"gohan\"])\n"
   ]
  },
  {
   "cell_type": "code",
   "execution_count": 5,
   "metadata": {},
   "outputs": [
    {
     "name": "stdout",
     "output_type": "stream",
     "text": [
      "total number of rounds are: 6\n"
     ]
    }
   ],
   "source": [
    "def calculate_lifted_weight(n, capacity):\n",
    "    rounds = (n + capacity - 1) // capacity\n",
    "    return rounds\n",
    "print(f\"total number of rounds are: {calculate_lifted_weight(11,2)}\")"
   ]
  },
  {
   "cell_type": "code",
   "execution_count": null,
   "metadata": {},
   "outputs": [],
   "source": [
    "def max_difference(lst):\n",
    "    if len(lst) < 2:\n",
    "        return 0\n",
    "    max_diff = 0\n",
    "    for i in range(len(lst) - 1):                # travers till second last element only\n",
    "        diff = abs(lst[i] - lst[i+1])\n",
    "        if diff > max_diff:\n",
    "            max_diff = diff\n",
    "    return max_diff\n",
    "max_difference([10, 3, 6, 20, 8])"
   ]
  }
 ],
 "metadata": {
  "kernelspec": {
   "display_name": ".venv",
   "language": "python",
   "name": "python3"
  },
  "language_info": {
   "codemirror_mode": {
    "name": "ipython",
    "version": 3
   },
   "file_extension": ".py",
   "mimetype": "text/x-python",
   "name": "python",
   "nbconvert_exporter": "python",
   "pygments_lexer": "ipython3",
   "version": "3.13.1"
  }
 },
 "nbformat": 4,
 "nbformat_minor": 2
}
