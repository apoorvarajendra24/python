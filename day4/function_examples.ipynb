{
 "cells": [
  {
   "cell_type": "markdown",
   "metadata": {},
   "source": [
    "Example 1: Temperature conversion (C to F anf F to C)"
   ]
  },
  {
   "cell_type": "code",
   "execution_count": null,
   "metadata": {},
   "outputs": [],
   "source": [
    "def converter(temp,unit):\n",
    "    if unit == 'C' or 'c':\n",
    "        return (temp * 9/5) + 32    # Celsius to fahrenheit\n",
    "    elif unit == 'F' or 'f':\n",
    "        return (temp - 32) * 5/9    # fahrenheit to Celsius\n",
    "    else:\n",
    "        return None\n",
    "converter(float(input(\"Enter temperature:\")),str(input(\"Enter unit:\")))"
   ]
  },
  {
   "cell_type": "markdown",
   "metadata": {},
   "source": [
    "Example 2: Password Strength Check"
   ]
  },
  {
   "cell_type": "code",
   "execution_count": null,
   "metadata": {},
   "outputs": [],
   "source": [
    "def strength(password):\n",
    "    if len(password) < 8:\n",
    "        return False\n",
    "    if not any(char.isdigit() for char in password):      # if No numbers, false\n",
    "        return False\n",
    "    if not any(char.isupper() for char in password):\n",
    "        return False\n",
    "    if not any(char.islower() for char in password):\n",
    "        return False\n",
    "    if not any(char in \"!@#$%^&*()_+-={}:<>?/\" for char in password):\n",
    "        return False\n",
    "    return True\n",
    "\n",
    "print(strength(\"weakPass\"))\n",
    "print(strength(\"Strong@123\"))"
   ]
  },
  {
   "cell_type": "markdown",
   "metadata": {},
   "source": [
    "Example 3: If string is a palindrome or not"
   ]
  },
  {
   "cell_type": "code",
   "execution_count": null,
   "metadata": {},
   "outputs": [],
   "source": [
    "def is_pallindrome(string):\n",
    "    string = string.lower().replace(\" \",\"\")\n",
    "    return string == string[::-1]\n",
    "\n",
    "print(is_pallindrome(\"radar\"))\n",
    "print(is_pallindrome(\"python\"))\n",
    "print(is_pallindrome(\"nayan\"))"
   ]
  },
  {
   "cell_type": "markdown",
   "metadata": {},
   "source": [
    "Example 4: Calculate factorial of a number using recursion"
   ]
  },
  {
   "cell_type": "code",
   "execution_count": null,
   "metadata": {},
   "outputs": [],
   "source": [
    "def factorial(num):\n",
    "    if num == 0:\n",
    "        return 1\n",
    "    else:\n",
    "        return num * factorial(num-1) \n",
    "print(factorial(0))"
   ]
  },
  {
   "cell_type": "markdown",
   "metadata": {},
   "source": [
    "Example 5: A function to read a file and count the number of frequency of each word"
   ]
  },
  {
   "cell_type": "code",
   "execution_count": null,
   "metadata": {},
   "outputs": [],
   "source": [
    "def count_word_frequency(file_name):\n",
    "    word_freq = {}\n",
    "    with open(file_name, 'r') as file:\n",
    "        for line in file.readlines():\n",
    "            words = line.split()\n",
    "            print(words)\n",
    "            for word in words:\n",
    "                word = word.lower().strip('.,!?')\n",
    "                if word in word_freq:              ## word_count[word] = word_count.get(word,0)+1 \n",
    "                    word_freq[word] += 1\n",
    "                else:\n",
    "                    word_freq[word] = 1\n",
    "    return word_freq\n",
    "file_path = 'sample.txt'\n",
    "print(\"Word frequency is:\\n\",count_word_frequency(file_path))"
   ]
  },
  {
   "cell_type": "markdown",
   "metadata": {},
   "source": [
    "Example 7: Validate an email address"
   ]
  },
  {
   "cell_type": "code",
   "execution_count": null,
   "metadata": {},
   "outputs": [],
   "source": [
    "import re\n",
    "def validate_email(email):\n",
    "    regex = r'^[a-zA-Z0-9._%+-]+@[a-zA-Z0-9.-]+\\.[a-z]{2,}$'\n",
    "    if re.match(regex,email):\n",
    "        return True\n",
    "    else:\n",
    "        return False\n",
    "print(validate_email('minato.namikaze22@gmail.com'))\n",
    "print(validate_email('weasj.com'))"
   ]
  }
 ],
 "metadata": {
  "kernelspec": {
   "display_name": ".venv",
   "language": "python",
   "name": "python3"
  },
  "language_info": {
   "codemirror_mode": {
    "name": "ipython",
    "version": 3
   },
   "file_extension": ".py",
   "mimetype": "text/x-python",
   "name": "python",
   "nbconvert_exporter": "python",
   "pygments_lexer": "ipython3",
   "version": "3.13.1"
  }
 },
 "nbformat": 4,
 "nbformat_minor": 2
}
