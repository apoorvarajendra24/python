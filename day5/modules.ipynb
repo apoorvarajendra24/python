{
 "cells": [
  {
   "cell_type": "code",
   "execution_count": null,
   "metadata": {},
   "outputs": [],
   "source": [
    "from math import pi,sqrt\n",
    "print(sqrt(pi))"
   ]
  },
  {
   "cell_type": "code",
   "execution_count": null,
   "metadata": {},
   "outputs": [],
   "source": [
    "from package import calculate\n",
    "print(\"Addition is: \",calculate.addition(10,30))\n",
    "lst = [1,2,3,4,5,6,7,8,9]\n",
    "n= len(lst)\n",
    "new_list = []\n",
    "for i in range(n-1):\n",
    "    new_list.append(calculate.multiplication(lst[i],lst[i+1]))\n",
    "print(new_list)"
   ]
  },
  {
   "cell_type": "code",
   "execution_count": null,
   "metadata": {},
   "outputs": [],
   "source": [
    "from package.calculate import *    # another way to import packages\n",
    "from package.calculate import addition, subtraction     # specific functions\n",
    "\n",
    "print(addition(15,45))\n",
    "print(subtraction(15,45))"
   ]
  },
  {
   "cell_type": "code",
   "execution_count": null,
   "metadata": {},
   "outputs": [],
   "source": [
    "# sub package import\n",
    "from package.sub_package.str_operation import *\n",
    "\n",
    "print(str_concate(\"hello \",\"world!!\"))\n",
    "print(str_len(\"gojo saturo\"))"
   ]
  },
  {
   "cell_type": "markdown",
   "metadata": {},
   "source": [
    "Some most commonly used libraries in python"
   ]
  },
  {
   "cell_type": "code",
   "execution_count": 17,
   "metadata": {},
   "outputs": [
    {
     "name": "stdout",
     "output_type": "stream",
     "text": [
      "mercedes\n",
      "34 54 91 79 82 51 71 2 35 72 "
     ]
    }
   ],
   "source": [
    "# random library: generate random numbers and perform random operations.\n",
    "import random\n",
    "\n",
    "print(random.choice(['ferrari','mclaren','redbull','mercedes']))    # choose any one \n",
    "for i in range(10):               # prints 10 random numbers from 1 to 100\n",
    "    print(random.randint(1,100),end=\" \")\n"
   ]
  },
  {
   "cell_type": "code",
   "execution_count": null,
   "metadata": {},
   "outputs": [],
   "source": [
    "\"\"\"os library:  interacting with the operating system, \n",
    "allowing you to work with files, directories, processes, and environment variables.\"\"\"\n",
    "\n",
    "import os\n",
    "print(os.listdir('.'))      # list all directories\n",
    "print(os.getcwd())          # current working directory path\n",
    "#os.mkdir('new_folder')      # creates a new folder\n",
    "os.rmdir('new_folder')       # deletes a new folder"
   ]
  },
  {
   "cell_type": "code",
   "execution_count": null,
   "metadata": {},
   "outputs": [],
   "source": [
    "\"\"\" math librabry: provides a wide range of mathematical functions \n",
    "and constants for performing calculations such as trigonometry, logarithms, factorials, and more.\"\"\"\n",
    "\n",
    "import math\n",
    "print(math.factorial(10))     # factorial of a number\n",
    "print(math.pi)                # value of pi\n",
    "print(math.pow(3,2))          # power function"
   ]
  },
  {
   "cell_type": "code",
   "execution_count": null,
   "metadata": {},
   "outputs": [],
   "source": [
    "\"\"\" shutil library: provides high-level file operations, making it easier to manage files and directories. \n",
    "It is particularly useful for tasks like copying, moving, and removing files or directories, \n",
    "as well as archiving and extracting data. \"\"\"\n",
    "\n",
    "import shutil\n",
    "shutil.copy('source.txt', 'destination.txt')  # Copies source.txt to destination.txt\n"
   ]
  },
  {
   "cell_type": "code",
   "execution_count": 29,
   "metadata": {},
   "outputs": [
    {
     "name": "stdout",
     "output_type": "stream",
     "text": [
      "Total: 209714147328, Used: 33579896832, Free: 176134250496\n"
     ]
    }
   ],
   "source": [
    "usage = shutil.disk_usage('/')\n",
    "print(f\"Total: {usage.total}, Used: {usage.used}, Free: {usage.free}\")"
   ]
  },
  {
   "cell_type": "code",
   "execution_count": 30,
   "metadata": {},
   "outputs": [
    {
     "name": "stdout",
     "output_type": "stream",
     "text": [
      "['Name', 'Age', 'City']\n",
      "['Alice', '30', 'New York']\n",
      "['Bob', '25', 'London']\n",
      "['Eve', '35', 'Paris']\n"
     ]
    }
   ],
   "source": [
    "# csv library:  used for working with CSV (Comma-Separated Values) files. CSV files are plain text files that \n",
    "# store tabular data, such as a spreadsheet or database.\n",
    "\n",
    "import csv\n",
    "\n",
    "with open('data.csv', 'w', newline='') as file:\n",
    "    writer = csv.writer(file)\n",
    "    writer.writerow(['Name', 'Age', 'City'])  # Write header\n",
    "    writer.writerow(['Alice', 30, 'New York'])  # Write a single row\n",
    "    writer.writerows([['Bob', 25, 'London'], ['Eve', 35, 'Paris']])  # Write multiple rows\n",
    "\n",
    "with open('data.csv', 'r') as file:\n",
    "    reader = csv.reader(file)\n",
    "    for row in reader:\n",
    "        print(row)"
   ]
  },
  {
   "cell_type": "code",
   "execution_count": null,
   "metadata": {},
   "outputs": [],
   "source": [
    "# data serialization/ deserialisation: used for data serialization and \n",
    "# deserialization of JSON (JavaScript Object Notation) data.\n",
    "\n",
    "import json\n",
    "\n",
    "# Python object (dictionary)\n",
    "data = {\n",
    "    \"name\": \"Bob\",\n",
    "    \"age\": 30,\n",
    "    \"is_employed\": False,\n",
    "    \"address\": {\n",
    "        \"street\": \"123 Main St\",\n",
    "        \"city\": \"Anytown\",\n",
    "        \"state\": \"CA\",\n",
    "        \"zip\": \"12345\"\n",
    "    },\n",
    "    \"skills\": [\"python\",\"c\",\"devops\",\"aws\",\"networking\"],\n",
    "    \"hobbies\": [\"reading\", \"cycling\"]\n",
    "}\n",
    "\n",
    "# 2. Serialize to JSON string\n",
    "json_string = json.dumps(data, indent=4)\n",
    "print(\"Serialized JSON string:\")\n",
    "print(json_string)\n",
    "\n",
    "# 3. Deserialize JSON string back to Python object\n",
    "deserialized_data = json.loads(json_string)\n",
    "print(\"\\nDeserialized Python object:\")\n",
    "print(deserialized_data)\n",
    "\n",
    "# 4. Save JSON data to a file\n",
    "with open(\"data.json\", \"w\") as file:\n",
    "    json.dump(data, file, indent=4)\n",
    "\n",
    "# 5. Read JSON data from the file\n",
    "with open(\"data.json\", \"r\") as file:\n",
    "    loaded_data = json.load(file)\n",
    "print(\"\\nLoaded JSON from file:\")\n",
    "print(loaded_data)"
   ]
  }
 ],
 "metadata": {
  "kernelspec": {
   "display_name": ".venv",
   "language": "python",
   "name": "python3"
  },
  "language_info": {
   "codemirror_mode": {
    "name": "ipython",
    "version": 3
   },
   "file_extension": ".py",
   "mimetype": "text/x-python",
   "name": "python",
   "nbconvert_exporter": "python",
   "pygments_lexer": "ipython3",
   "version": "3.13.1"
  }
 },
 "nbformat": 4,
 "nbformat_minor": 2
}
