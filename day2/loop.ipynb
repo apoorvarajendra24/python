{
 "cells": [
  {
   "cell_type": "code",
   "execution_count": null,
   "metadata": {},
   "outputs": [],
   "source": [
    "##for loop: used when no. of iteration is finite\n",
    "sum=0\n",
    "for i in range(1,10,1):           ##Range: return an object that produces a sequence of integers from start (inclusive) to stop (exclusive) by step\n",
    "    sum+=i\n",
    "print(sum)\n",
    "\n",
    "for i in range(10,1,-2):\n",
    "    print(i)\n",
    "\n",
    "string=\"Tanvibokya dukkar\"\n",
    "for i in string.split():\n",
    "    print(i)"
   ]
  },
  {
   "cell_type": "code",
   "execution_count": null,
   "metadata": {},
   "outputs": [],
   "source": [
    "##while loop: the while loop continues as long as the condition is true.used when the no. of iteration is not known\n",
    "count=5\n",
    "while count>0:\n",
    "    print(count)\n",
    "    count-=1"
   ]
  },
  {
   "cell_type": "code",
   "execution_count": null,
   "metadata": {},
   "outputs": [],
   "source": [
    "##Break statement: control flow statement used to immediately terminate the loop\n",
    "for i in range(10):\n",
    "    if i==5:\n",
    "        break\n",
    "    print(i)"
   ]
  },
  {
   "cell_type": "code",
   "execution_count": null,
   "metadata": {},
   "outputs": [],
   "source": [
    "##Continue statement: control flow statement used to skip the current iteration and move to the next one\n",
    "for i in range(10):\n",
    "    if i%2==0:\n",
    "        continue\n",
    "    print(i)"
   ]
  },
  {
   "cell_type": "code",
   "execution_count": null,
   "metadata": {},
   "outputs": [],
   "source": [
    "##Pass statement: it is a null operation, does nothing. can be used as a placeholder for future code or exception handling.\n",
    "for i in range(5):\n",
    "    print(i)\n",
    "    pass\n"
   ]
  },
  {
   "cell_type": "code",
   "execution_count": null,
   "metadata": {},
   "outputs": [],
   "source": [
    "##wap to find prime number \n",
    "for num in range(1, 101):\n",
    "    is_prime=1\n",
    "    if num == 1:\n",
    "        is_prime = 0\n",
    "    for i in range(2, num):\n",
    "        if num % i == 0:\n",
    "            is_prime=0\n",
    "            break\n",
    "    if(is_prime):\n",
    "        print(num,end=\" \")"
   ]
  }
 ],
 "metadata": {
  "kernelspec": {
   "display_name": "venv",
   "language": "python",
   "name": "python3"
  },
  "language_info": {
   "codemirror_mode": {
    "name": "ipython",
    "version": 3
   },
   "file_extension": ".py",
   "mimetype": "text/x-python",
   "name": "python",
   "nbconvert_exporter": "python",
   "pygments_lexer": "ipython3",
   "version": "3.11.1"
  }
 },
 "nbformat": 4,
 "nbformat_minor": 2
}
