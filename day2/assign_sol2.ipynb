{
 "cells": [
  {
   "cell_type": "code",
   "execution_count": null,
   "metadata": {},
   "outputs": [],
   "source": [
    "##Question 1,2 and 3\n",
    "num=int(input(\"Enter a number\"))\n",
    "if num>0:\n",
    "    print(\"Number is positive\")\n",
    "elif num<0:\n",
    "    print(\"Number is negative\")\n",
    "else:\n",
    "    print(\"Number is zero\")"
   ]
  },
  {
   "cell_type": "code",
   "execution_count": null,
   "metadata": {},
   "outputs": [],
   "source": [
    "##Question 15\n",
    "num=int(input(\"Enter a nmber\"))\n",
    "num1,num2=0,1\n",
    "for i in range(num):\n",
    "    nth=num1+num2\n",
    "    print(num1,end=\" \")\n",
    "    num1,num2=num2,nth"
   ]
  }
 ],
 "metadata": {
  "kernelspec": {
   "display_name": "venv",
   "language": "python",
   "name": "python3"
  },
  "language_info": {
   "codemirror_mode": {
    "name": "ipython",
    "version": 3
   },
   "file_extension": ".py",
   "mimetype": "text/x-python",
   "name": "python",
   "nbconvert_exporter": "python",
   "pygments_lexer": "ipython3",
   "version": "3.11.1"
  }
 },
 "nbformat": 4,
 "nbformat_minor": 2
}
