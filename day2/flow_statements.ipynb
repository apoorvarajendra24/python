{
 "cells": [
  {
   "cell_type": "code",
   "execution_count": null,
   "metadata": {},
   "outputs": [],
   "source": [
    "##if statement\n",
    "age=20\n",
    "if age>=18:         ##evaluates the condition, if true, runs the block of code\n",
    "    print(\"You are an adult and allowed to vote\")\n",
    "##else statement\n",
    "else:               ## if the condition is false, it runs the else block code\n",
    "    print(\"You are not an adult and not allowed to vote\")"
   ]
  },
  {
   "cell_type": "code",
   "execution_count": null,
   "metadata": {},
   "outputs": [],
   "source": [
    "##elif statement : allows you to check multiple conditions.Stands for \"else if\"\n",
    "age=30\n",
    "if age<13:\n",
    "    print(\"You are a kid\")\n",
    "elif age<=18:\n",
    "    print(\"You are a teenager\")\n",
    "else:\n",
    "    print(\"You are an adult\")"
   ]
  },
  {
   "cell_type": "code",
   "execution_count": null,
   "metadata": {},
   "outputs": [],
   "source": [
    "##Nested conditional statements : Nested conditional statements are if, elif, or else statements that are placed inside another if or else block. \n",
    "##They allow you to check multiple conditions in a hierarchical or sequential way.\n",
    "\n",
    "num=int(input(\"Enter a number\"))\n",
    "\n",
    "if num>0:\n",
    "    if num%2==0:\n",
    "        print(\"The number is positive and even\")\n",
    "    else:\n",
    "        print(\"The number is positive and odd\")\n",
    "else:\n",
    "    print(\"The number is negative and zero\")"
   ]
  },
  {
   "cell_type": "code",
   "execution_count": null,
   "metadata": {},
   "outputs": [],
   "source": [
    "##creating a calculator. can also be performed using the if elif statements.\n",
    "num1=float(input(\"Enter number 1\"))\n",
    "num2=float(input(\"Enter number 2\"))\n",
    "operator=input(\"Enter operator (+, -, *, /, %, **): \")\n",
    "match operator:\n",
    "        case '+':\n",
    "            print(num1+num2)\n",
    "        case '-':\n",
    "            print(num1-num2)\n",
    "        case '*':\n",
    "            print(num1*num2)\n",
    "        case '/':\n",
    "            if num2 != 0:\n",
    "                print(num1/num2)\n",
    "            else:\n",
    "                print(\"Error! Division by zero is not allowed\")\n",
    "        case '%':\n",
    "            print(num1%num2)\n",
    "        case '**':\n",
    "            if num1==0 and num2==0:\n",
    "                print(\"Error! Zero to the power of zero is undefined\")\n",
    "            else:\n",
    "                print(num1**num2)\n",
    "        case _:\n",
    "            print(\"Invalid operator. Please enter a valid operator\")"
   ]
  }
 ],
 "metadata": {
  "kernelspec": {
   "display_name": "venv",
   "language": "python",
   "name": "python3"
  },
  "language_info": {
   "codemirror_mode": {
    "name": "ipython",
    "version": 3
   },
   "file_extension": ".py",
   "mimetype": "text/x-python",
   "name": "python",
   "nbconvert_exporter": "python",
   "pygments_lexer": "ipython3",
   "version": "3.11.1"
  }
 },
 "nbformat": 4,
 "nbformat_minor": 2
}
