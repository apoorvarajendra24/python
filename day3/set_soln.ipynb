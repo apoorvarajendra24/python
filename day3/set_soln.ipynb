{
 "cells": [
  {
   "cell_type": "code",
   "execution_count": null,
   "metadata": {},
   "outputs": [],
   "source": [
    "##Question 1 and 2\n",
    "set_1 = {i for i in range(1,11)}\n",
    "print(set_1)\n",
    "set_1.add(11)\n",
    "print(set_1)"
   ]
  },
  {
   "cell_type": "code",
   "execution_count": null,
   "metadata": {},
   "outputs": [],
   "source": [
    "##Question 3\n",
    "set1 = {1,2,3,4,5}\n",
    "set2 = {i for i in range(1,11) if i%2==0}      #{2,4,6,8,10}\n",
    "print(set1.union(set2))\n",
    "print(set1.intersection(set2))\n",
    "print(set1.difference(set2))\n",
    "print(set1.symmetric_difference(set2))"
   ]
  },
  {
   "cell_type": "code",
   "execution_count": null,
   "metadata": {},
   "outputs": [],
   "source": [
    "##Question 4\n",
    "square = {i**2 for i in range(1,11)}\n",
    "print(square)"
   ]
  },
  {
   "cell_type": "code",
   "execution_count": null,
   "metadata": {},
   "outputs": [],
   "source": [
    "##Question 5(1)\n",
    "odd_numbers = {i for i in set_1 if i%2!=0}\n",
    "print(odd_numbers)"
   ]
  },
  {
   "cell_type": "code",
   "execution_count": null,
   "metadata": {},
   "outputs": [],
   "source": [
    "##Question 6 and 7\n",
    "duplicate_elements = {1,3,3,4,5,6,4,7,8,9,10,45,10}\n",
    "print(duplicate_elements)\n",
    "a = {1,2,3,4,5}\n",
    "b = {1,2,3}\n",
    "print(a.issuperset(b))\n",
    "print(b.issubset(a))"
   ]
  },
  {
   "cell_type": "code",
   "execution_count": null,
   "metadata": {},
   "outputs": [],
   "source": [
    "##Question 8\n",
    "my_frozenset = frozenset({1, 2, 3, 4, 4, 5})  #immutable set where you cannot modify anything after creation of iterable\n",
    "print(my_frozenset)"
   ]
  },
  {
   "cell_type": "code",
   "execution_count": null,
   "metadata": {},
   "outputs": [],
   "source": [
    "##Question 11 and 12\n",
    "set_3 = {i for i in range(1,11)}\n",
    "while set_3:\n",
    "    print(f\"removing number: {set_3.pop()} Remaining set: {set_3}\")\n",
    "print(f\"Remaining set: {set_3}\")"
   ]
  },
  {
   "cell_type": "code",
   "execution_count": 34,
   "metadata": {},
   "outputs": [
    {
     "name": "stdout",
     "output_type": "stream",
     "text": [
      "{(2, 4), (4, 16), (0, 0), (1, 1), (3, 9)}\n"
     ]
    }
   ],
   "source": [
    "##Question 15\n",
    "set_4 = {(x,x**2) for x in range(5)}  \n",
    "print(set_4)"
   ]
  }
 ],
 "metadata": {
  "kernelspec": {
   "display_name": ".venv",
   "language": "python",
   "name": "python3"
  },
  "language_info": {
   "codemirror_mode": {
    "name": "ipython",
    "version": 3
   },
   "file_extension": ".py",
   "mimetype": "text/x-python",
   "name": "python",
   "nbconvert_exporter": "python",
   "pygments_lexer": "ipython3",
   "version": "3.13.1"
  }
 },
 "nbformat": 4,
 "nbformat_minor": 2
}
