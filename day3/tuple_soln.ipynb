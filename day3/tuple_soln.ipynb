{
 "cells": [
  {
   "cell_type": "code",
   "execution_count": null,
   "metadata": {},
   "outputs": [],
   "source": [
    "##Question 10\n",
    "tuple1=(1,2,3,4,5)\n",
    "print(tuple1,type(tuple1))\n",
    "list1=list(tuple1)\n",
    "list1.append(6)\n",
    "print(list1,type(list1))\n",
    "tuple1=tuple(list1)\n",
    "print(tuple1,type(tuple1))"
   ]
  },
  {
   "cell_type": "code",
   "execution_count": null,
   "metadata": {},
   "outputs": [],
   "source": [
    "##Question 11\n",
    "string=('p','y','t','h','o','n')\n",
    "for char in string:\n",
    "    print(char,end=\"\")\n",
    "print()\n",
    "a=\"i love python!!!\"\n",
    "tup=tuple(a)\n",
    "print(tup,type(tup))\n",
    "\n",
    "join_char=''.join(tup)\n",
    "print(join_char,type(join_char))"
   ]
  },
  {
   "cell_type": "code",
   "execution_count": null,
   "metadata": {},
   "outputs": [],
   "source": [
    "##Question 12\n",
    "dict1={(1,1):1, (2,1):2, (3,1):3}\n",
    "for key,values in dict1.items():\n",
    "    print(f\"key:{key} and Value:{values}\")\n",
    "print(dict1)"
   ]
  },
  {
   "cell_type": "code",
   "execution_count": null,
   "metadata": {},
   "outputs": [],
   "source": [
    "##Question 13\n",
    "nested_tuple=((\"goku\",\"vegeta\",\"broly\"),(\"naruto\",\"sasuke\",\"hashirama\"),(\"thorfinn\",\"thorkel\",\"askeladd\"))\n",
    "for sub_tuple in nested_tuple:\n",
    "    for item in sub_tuple:\n",
    "        print(item,end=\" \")\n",
    "    print()"
   ]
  },
  {
   "cell_type": "code",
   "execution_count": null,
   "metadata": {},
   "outputs": [],
   "source": [
    "##Question 14\n",
    "duplicate_tuple=(1,2,23,45,1,2,98,45,18,3,3)\n",
    "print(set(duplicate_tuple),type(duplicate_tuple))"
   ]
  },
  {
   "cell_type": "code",
   "execution_count": null,
   "metadata": {},
   "outputs": [],
   "source": [
    "##Question 15\n",
    "def maximum(a):\n",
    "    return max(a)\n",
    "def minimum(a):\n",
    "    return min(a)\n",
    "def total(a):\n",
    "    return sum(a)\n",
    "tuple_operation=(10,25,74,86,92,99,35)\n",
    "print(f\"Maximum is: {maximum(tuple_operation)}\")\n",
    "print(f\"Minimum is: {minimum(tuple_operation)}\")\n",
    "print(f\"Sum of all is: {total(tuple_operation)}\")"
   ]
  }
 ],
 "metadata": {
  "kernelspec": {
   "display_name": ".venv",
   "language": "python",
   "name": "python3"
  },
  "language_info": {
   "codemirror_mode": {
    "name": "ipython",
    "version": 3
   },
   "file_extension": ".py",
   "mimetype": "text/x-python",
   "name": "python",
   "nbconvert_exporter": "python",
   "pygments_lexer": "ipython3",
   "version": "3.13.1"
  }
 },
 "nbformat": 4,
 "nbformat_minor": 2
}
