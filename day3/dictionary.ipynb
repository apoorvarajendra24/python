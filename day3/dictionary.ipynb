{
 "cells": [
  {
   "cell_type": "code",
   "execution_count": null,
   "metadata": {},
   "outputs": [],
   "source": [
    "##Dictionaries: unordered collection of items and mutable. store data in key-value pairs. Keys are/must be unique and immutable while values may be of any type\n",
    "my_dict = {}                ##empty\n",
    "print(my_dict,type(my_dict))\n",
    "\n",
    "my_dict1=dict()\n",
    "print(my_dict1,type(my_dict1))"
   ]
  },
  {
   "cell_type": "code",
   "execution_count": null,
   "metadata": {},
   "outputs": [],
   "source": [
    "student={\"name\":\"naruto\",\"age\":23,\"designation\":\"Hokage\"}\n",
    "print(student)\n",
    "\n",
    "##ERROR\n",
    "student={\"name\":\"naruto\",\"age\":23,\"name\":\"Hokage\"}      ##Later key value will overwrite the earlier key value\n",
    "print(student)\n",
    "print(student.items())"
   ]
  },
  {
   "cell_type": "code",
   "execution_count": null,
   "metadata": {},
   "outputs": [],
   "source": [
    "##Accessing elements of dictionary\n",
    "student={'name':'naruto','age':23,'designation':'Hokage','food':'ramen'}\n",
    "print(student['name'])\n",
    "print(student['age'])\n",
    "\n",
    "##usning get()\n",
    "print(student.get('designation'))\n",
    "print(student.get('food'))"
   ]
  },
  {
   "cell_type": "code",
   "execution_count": null,
   "metadata": {},
   "outputs": [],
   "source": [
    "##Modifying elements\n",
    "student['name']=\"minato\"          #update\n",
    "print(student)\n",
    "student['last_name']=\"namikaze\"   #Add\n",
    "print(student)\n",
    "student['address']={'village':'konoha'}\n",
    "print(student)\n",
    "del student['address']            #delete\n",
    "print(student)\n",
    "student['address']={'village':'konoha'}"
   ]
  },
  {
   "cell_type": "code",
   "execution_count": null,
   "metadata": {},
   "outputs": [],
   "source": [
    "#individualy extracting keys, values and both\n",
    "keys = student.keys()\n",
    "print(keys, type(keys))\n",
    "values = student.values()\n",
    "print(values, type(values))\n",
    "items = student.items()\n",
    "print(items, type(items))"
   ]
  },
  {
   "cell_type": "code",
   "execution_count": null,
   "metadata": {},
   "outputs": [],
   "source": [
    "\"\"\"Shallow copy in dictionaries: contains the same key-value pairs as the original. holds the reference to the same objects as the original. \n",
    "therefore, any change in original is reflected back in the copy\"\"\"\n",
    "\n",
    "original_copy={'name':'naruto','age':23,'designation':'Hokage','food':'ramen'}\n",
    "shallow_copy = original_copy\n",
    "print(original_copy)\n",
    "print(shallow_copy)\n",
    "original_copy['name']=\"itachi\"\n",
    "print(original_copy)\n",
    "print(shallow_copy)\n",
    "\n",
    "##To not have exact copy but a seperate dictionary\n",
    "shallow_copy = original_copy.copy()\n",
    "original_copy['name']=\"kakashi\"\n",
    "print(original_copy)\n",
    "print(shallow_copy)"
   ]
  },
  {
   "cell_type": "code",
   "execution_count": null,
   "metadata": {},
   "outputs": [],
   "source": [
    "##Iterating Dictionary using loops\n",
    "# Iterating over dictionary items\n",
    "for key,value in student.items():\n",
    "    print(f\"{key} : {value}\")\n",
    "print()\n",
    "# Iterting over dictionary keys\n",
    "for key in student.keys():\n",
    "    print(key)\n",
    "print()\n",
    "# Iterating over dictionary values\n",
    "for values in student.values():\n",
    "    print(values)"
   ]
  },
  {
   "cell_type": "code",
   "execution_count": 1,
   "metadata": {},
   "outputs": [
    {
     "name": "stdout",
     "output_type": "stream",
     "text": [
      "{'student1': {'name': 'sasuke', 'age': 23, 'clan': 'uchiha', 'performance': 'top'}, 'student2': {'name': 'naruto', 'age': 23, 'clan': 'uzumaki', 'performance': 'super top'}, 'student3': {'name': 'shikamaru', 'age': 23, 'clan': 'nara', 'performance': '2nd top'}}\n",
      "sasuke\n",
      "23\n",
      "uchiha\n"
     ]
    }
   ],
   "source": [
    "##Nested dictionaries\n",
    "students={\n",
    "    \"student1\":{\"name\":\"sasuke\",\"age\":23,\"clan\":\"uchiha\",\"performance\":\"top\"},\n",
    "    \"student2\":{\"name\":\"naruto\",\"age\":23,\"clan\":\"uzumaki\",\"performance\":\"super top\"},\n",
    "    \"student3\":{\"name\":\"shikamaru\",\"age\":23,\"clan\":\"nara\",\"performance\":\"2nd top\"}\n",
    "}\n",
    "print(students)\n",
    "\n",
    "##Accessing nested loops\n",
    "print(students[\"student1\"][\"name\"])\n",
    "print(students[\"student1\"][\"age\"])\n",
    "print(students[\"student1\"][\"clan\"])"
   ]
  },
  {
   "cell_type": "code",
   "execution_count": null,
   "metadata": {},
   "outputs": [],
   "source": [
    "##using loops\n",
    "print(students.items())                                ##Here student1 will be the key in loop1 and rest,value. for loop2 student.info is the dictionary\n",
    "for student_id, student_info in students.items():\n",
    "    print(f\"{student_id}\")\n",
    "    for key,value in student_info.items():\n",
    "        print(f\"{key} : {value}\")"
   ]
  },
  {
   "cell_type": "code",
   "execution_count": null,
   "metadata": {},
   "outputs": [],
   "source": [
    "##Dictionary comprehension\n",
    "square = {}\n",
    "for x in range(10):\n",
    "    square[x] = x**2\n",
    "print(square)\n",
    "\n",
    "square1 = {x:x**2 for x in range(10)}\n",
    "print(square1)\n",
    "\n",
    "##Conditional comprehension\n",
    "even = {}\n",
    "for i in range(1,11):\n",
    "    if i%2 == 0:\n",
    "        even[i] = i**2\n",
    "print(even)\n",
    "\n",
    "odd = {j:j**2 for j in range(1,11) if j%2 != 0}\n",
    "print(odd)"
   ]
  },
  {
   "cell_type": "code",
   "execution_count": null,
   "metadata": {},
   "outputs": [],
   "source": [
    "##use case dictionary\n",
    "# frequency of each element in the list using dictionary\n",
    "numbers=[1,2,2,3,3,3,4,4,4,4]\n",
    "dict1={}\n",
    "for number in numbers:\n",
    "    if number in dict1:\n",
    "        dict1[number]+=1\n",
    "    else:\n",
    "        dict1[number]=1\n",
    "print(dict1)"
   ]
  }
 ],
 "metadata": {
  "kernelspec": {
   "display_name": ".venv",
   "language": "python",
   "name": "python3"
  },
  "language_info": {
   "codemirror_mode": {
    "name": "ipython",
    "version": 3
   },
   "file_extension": ".py",
   "mimetype": "text/x-python",
   "name": "python",
   "nbconvert_exporter": "python",
   "pygments_lexer": "ipython3",
   "version": "3.13.1"
  }
 },
 "nbformat": 4,
 "nbformat_minor": 2
}
