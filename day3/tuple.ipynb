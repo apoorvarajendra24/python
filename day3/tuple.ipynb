{
 "cells": [
  {
   "cell_type": "code",
   "execution_count": null,
   "metadata": {},
   "outputs": [],
   "source": [
    "##Tuples: ordered collection of items that are immutable. Can store heterogenous type of data.\n",
    "t=()        ##Creating empty tuple\n",
    "print(t)\n",
    "print(type(t))\n",
    "tp=tuple()\n",
    "print(tp)\n",
    "print(type(tp))"
   ]
  },
  {
   "cell_type": "code",
   "execution_count": null,
   "metadata": {},
   "outputs": [],
   "source": [
    "##converting list to tuple and vise versa\n",
    "# list to tuple\n",
    "tuple1 = tuple([1, 2, 3, 4, 5])\n",
    "print(tuple1)\n",
    "print(type(tuple1))\n",
    "try:\n",
    "    tuple1[0]=10         ##cannot change once assigned\n",
    "    print(tuple1[0])\n",
    "except TypeError:\n",
    "    print(\"Tuple is immutable. Cannot perform assignment operation\")\n",
    "\n",
    "# tuple to list\n",
    "list1 = list((1,2,3,4,5))\n",
    "print(list1)\n",
    "print(type(list1))\n",
    "list1[3]=10\n",
    "print(list1[3],list1)"
   ]
  },
  {
   "cell_type": "code",
   "execution_count": null,
   "metadata": {},
   "outputs": [],
   "source": [
    "mixed_tuple=(1,\"tanvi\",2,3.14,True)\n",
    "print(mixed_tuple)\n",
    "\n",
    "##Accessing tuples\n",
    "tup=(1,2,3,4,5,6)\n",
    "print(tup[0])\n",
    "print(tup[::-1],tup[::]) ##Slicing: reverse and complete tuple"
   ]
  },
  {
   "cell_type": "code",
   "execution_count": null,
   "metadata": {},
   "outputs": [],
   "source": [
    "##Tuple Operation\n",
    "#Concatenation\n",
    "tup=(1,2,3,4)\n",
    "con=tup+mixed_tuple\n",
    "print(con)\n",
    "\n",
    "print(tup*3) ##repeates the items 3 times\n"
   ]
  },
  {
   "cell_type": "code",
   "execution_count": null,
   "metadata": {},
   "outputs": [],
   "source": [
    "##Tuple methods does not supports methods that are used to modify\n",
    "##count(): returns occurence of the item\n",
    "##index(): returns item at a particular index\n",
    "numbers=(1,1,2,3,4,5,6,\"lily\")\n",
    "print(numbers.count(1))\n",
    "print(numbers.index(\"lily\"))"
   ]
  },
  {
   "cell_type": "code",
   "execution_count": null,
   "metadata": {},
   "outputs": [],
   "source": [
    "##Tuple packing and unpacking\n",
    "pack=1,2,3,4   #packing\n",
    "print(pack)\n",
    "\n",
    "a,b,c,d=pack   #unpacking: extarcting elements from tuple and assign them to variables individually\n",
    "print(a)\n",
    "print(b)\n",
    "print(c)"
   ]
  },
  {
   "cell_type": "code",
   "execution_count": null,
   "metadata": {},
   "outputs": [],
   "source": [
    "##Unpacking with * : used to store multiple items in a single variable\n",
    "tup = (10, 20, 30, 40)\n",
    "_, *middle = tup      #everything except the 1st element\n",
    "print(middle)  # Output: [20, 30, 40]\n",
    "\n",
    "_, *middle, _ = tup\n",
    "print(middle)         #everything eccept the start and end"
   ]
  },
  {
   "cell_type": "code",
   "execution_count": null,
   "metadata": {},
   "outputs": [],
   "source": [
    "##Nested Tuple \n",
    "nested_tuple=((1,2,3),(\"kneel\",\"before\",\"mee\"),(1.2,2.3,3.4),(True,False))\n",
    "print(nested_tuple)\n",
    "print(nested_tuple[0])\n",
    "print(nested_tuple[0][2])\n",
    "print(nested_tuple[1][0])\n",
    "print(nested_tuple[2][1])\n",
    "\n",
    "##using loop\n",
    "for sub_tuple in nested_tuple:\n",
    "    for item in sub_tuple:\n",
    "        print(item,end=\" \")\n",
    "    print()"
   ]
  }
 ],
 "metadata": {
  "kernelspec": {
   "display_name": ".venv",
   "language": "python",
   "name": "python3"
  },
  "language_info": {
   "codemirror_mode": {
    "name": "ipython",
    "version": 3
   },
   "file_extension": ".py",
   "mimetype": "text/x-python",
   "name": "python",
   "nbconvert_exporter": "python",
   "pygments_lexer": "ipython3",
   "version": "3.13.1"
  }
 },
 "nbformat": 4,
 "nbformat_minor": 2
}
