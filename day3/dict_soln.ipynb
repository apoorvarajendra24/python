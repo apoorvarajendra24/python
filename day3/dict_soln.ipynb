{
 "cells": [
  {
   "cell_type": "code",
   "execution_count": null,
   "metadata": {},
   "outputs": [],
   "source": [
    "##Question 1,2,3 and 4\n",
    "square = {x:x**2 for x in range(1,11)}\n",
    "print(\"Square of numbers from 1 to 10: \",square)\n",
    "for keys,value in square.items():\n",
    "    if keys == 5:\n",
    "        print(f\"\\n{keys} : {value}\")\n",
    "    else:\n",
    "        print(f\"{keys}\",end=\" \")\n",
    "square[11] = 121\n",
    "del square[1]\n",
    "print(\" \",square)\n",
    "for keys,value in square.items():\n",
    "    print(f\"{keys} : {value}\")"
   ]
  },
  {
   "cell_type": "code",
   "execution_count": null,
   "metadata": {},
   "outputs": [],
   "source": [
    "##Question 5\n",
    "cube = {x:x**3 for x in range(1,11)}\n",
    "print(\"Cube of numbers from 1 to 10: \",cube)"
   ]
  },
  {
   "cell_type": "code",
   "execution_count": null,
   "metadata": {},
   "outputs": [],
   "source": [
    "##Question 6\n",
    "dict2 = {}\n",
    "dict1 = {}\n",
    "for x in range(1,11):\n",
    "    (dict1 if x<=5 else dict2)[x] = x**2\n",
    "print(dict1)\n",
    "print(dict2)\n",
    "merged_dict={**dict1,**dict2}\n",
    "print(merged_dict)"
   ]
  },
  {
   "cell_type": "code",
   "execution_count": null,
   "metadata": {},
   "outputs": [],
   "source": [
    "##Question 7\n",
    "student = {\n",
    "    \"name\": \"John\",\n",
    "    \"age\": 20,\n",
    "    \"grade\": {\n",
    "        \"math\": 90,\n",
    "        \"science\": 85,\n",
    "        \"english\": 95\n",
    "    },\n",
    "}\n",
    "print(student)\n",
    "for key, value in student.items():\n",
    "    if isinstance(value, dict):         ##If the value is a dictionary, it enters a second loop to print the nested items.\n",
    "        print(f\"{key}:\")\n",
    "        for sub_key, sub_value in value.items():\n",
    "            print(f\"  {sub_key}: {sub_value}\")\n",
    "    else:\n",
    "        print(f\"{key}: {value}\")\n",
    "\n"
   ]
  },
  {
   "cell_type": "code",
   "execution_count": null,
   "metadata": {},
   "outputs": [],
   "source": [
    "##Question 8\n",
    "dict3 = {}\n",
    "for i in range(1,6):            ##multiples_dict = {i: [i * j for j in range(1, 6)] for i in range(1, 6)}\n",
    "    dict3[i] = []\n",
    "    for j in range(1,6):\n",
    "        dict3[i].append(i*j)\n",
    "print(dict3)"
   ]
  },
  {
   "cell_type": "code",
   "execution_count": null,
   "metadata": {},
   "outputs": [],
   "source": [
    "##Question 9\n",
    "dict3 = {}\n",
    "for i in range(1,6):\n",
    "    dict3[i] = [i,i**2]\n",
    "print(dict3)"
   ]
  },
  {
   "cell_type": "code",
   "execution_count": null,
   "metadata": {},
   "outputs": [],
   "source": [
    "##Question 10\n",
    "\"\"\"dict3 = {x:x**2 for x in range(1,11)}\n",
    "print(dict3)\n",
    "list1 = [] \n",
    "list2 = []\n",
    "for keys,values in dict3.items():\n",
    "    list1.append(keys)\n",
    "    list2.append(values)\n",
    "merged_list = [(i,j) for i in list1 for j in list2 if list1.index(i)==list2.index(j)]\n",
    "print(merged_list)\"\"\"\n",
    "\n",
    "dict3 = {x:x**2 for x in range(1,11)}\n",
    "tuple_list = list(dict3.items())\n",
    "print(tuple_list)"
   ]
  },
  {
   "cell_type": "code",
   "execution_count": null,
   "metadata": {},
   "outputs": [],
   "source": [
    "##Question 11\n",
    "my_dict = {x:x**2 for x in range(1,11)}\n",
    "even_nmber = {}\n",
    "for key,value in my_dict.items():\n",
    "    if key%2==0:\n",
    "        even_nmber[key]=value\n",
    "    else:\n",
    "        pass\n",
    "print(even_nmber)\n",
    "\n",
    "odd_numbers = {key:value for key,value in my_dict.items() if key%2!=0}\n",
    "print(odd_numbers)"
   ]
  },
  {
   "cell_type": "code",
   "execution_count": null,
   "metadata": {},
   "outputs": [],
   "source": [
    "##Question 12\n",
    "cube = {i:i**3 for i in range(1,11)}\n",
    "swapped_val = {}\n",
    "for key, value in cube.items():\n",
    "    swapped_val[value] = key\n",
    "print(swapped_val)"
   ]
  },
  {
   "cell_type": "code",
   "execution_count": 69,
   "metadata": {},
   "outputs": [
    {
     "name": "stdout",
     "output_type": "stream",
     "text": [
      "defaultdict(<class 'list'>, {})\n",
      "defaultdict(<class 'list'>, {'fruits': ['mango', 'guava'], 'vegetable': ['lady finger', 'bringal'], 'flower': ['lilly', 'rose']})\n"
     ]
    }
   ],
   "source": [
    "##Question 13\n",
    "from collections import defaultdict\n",
    "d1 = defaultdict(list)\n",
    "print(veggies)\n",
    "d1['fruits'].append('mango')\n",
    "d1['fruits'].append('guava')\n",
    "d1['vegetable'].append('lady finger')\n",
    "d1['vegetable'].append('bringal')\n",
    "d1['flower'].append('lilly')\n",
    "d1['flower'].append('rose')\n",
    "print(d1)"
   ]
  },
  {
   "cell_type": "code",
   "execution_count": null,
   "metadata": {},
   "outputs": [],
   "source": [
    "##Question 14\n",
    "def calculate(string):\n",
    "    cal = {}\n",
    "    for i in string:\n",
    "        if i in cal:\n",
    "            cal[i] += 1       #+1 if already present\n",
    "        else:\n",
    "            cal[i] = 1        #1 if not present\n",
    "    return cal\n",
    "string = str(input(\"Enter a String:\"))\n",
    "print(string)\n",
    "print(calculate(string))"
   ]
  },
  {
   "cell_type": "code",
   "execution_count": null,
   "metadata": {},
   "outputs": [],
   "source": [
    "##Question 15\n",
    "import json\n",
    "book = {'title':'tale of jiraya','author':'master jiraya','year':'1600','genre':'valor'}\n",
    "jason_formatted = json.dumps(book,indent=4)\n",
    "print(jason_formatted)"
   ]
  }
 ],
 "metadata": {
  "kernelspec": {
   "display_name": ".venv",
   "language": "python",
   "name": "python3"
  },
  "language_info": {
   "codemirror_mode": {
    "name": "ipython",
    "version": 3
   },
   "file_extension": ".py",
   "mimetype": "text/x-python",
   "name": "python",
   "nbconvert_exporter": "python",
   "pygments_lexer": "ipython3",
   "version": "3.13.1"
  }
 },
 "nbformat": 4,
 "nbformat_minor": 2
}
