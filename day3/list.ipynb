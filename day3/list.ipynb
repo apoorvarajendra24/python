{
 "cells": [
  {
   "cell_type": "code",
   "execution_count": null,
   "metadata": {},
   "outputs": [],
   "source": [
    "##List: list are ordered, mutable collection of items which can have items of different data type.\n",
    "lst=[]\n",
    "print(\"Empty List: \",lst)\n",
    "lst1=[\"tanvi\",\"bokya\",1,2,3,4,4]          ##List can also have redundant data\n",
    "print(\"List: \",lst1)\n",
    "\n",
    "##Accessing list\n",
    "##Indexing\n",
    "print(lst1[0])         \n",
    "print(lst1[-1])        ##Negative indexing"
   ]
  },
  {
   "cell_type": "code",
   "execution_count": null,
   "metadata": {},
   "outputs": [],
   "source": [
    "##Slicing\n",
    "print(lst1[:])       ##prints everything\n",
    "print(lst1[:-1])     ##prints from start to len-1"
   ]
  },
  {
   "cell_type": "code",
   "execution_count": null,
   "metadata": {},
   "outputs": [],
   "source": [
    "names=[\"thors\",\"einar\",\"lily\",\"ragnar\",\"thorfinn\",\"thorkil\"]\n",
    "names[0]=\"pipuu\"\n",
    "print(names)\n",
    "names[-1:]=\"pipu\"     ##replacing the item character by character\n",
    "print(names)\n",
    "del names[5:]         ##he del keyword in Python is used to delete objects, slices, or variables. removes item from memory or list\n",
    "print(names)"
   ]
  },
  {
   "cell_type": "code",
   "execution_count": null,
   "metadata": {},
   "outputs": [],
   "source": [
    "##List methods\n",
    "names=[\"thors\",\"einar\",\"lily\",\"ragnar\",\"thorfinn\",\"thorkil\"]\n",
    "print(len(names))      ##measures the length of the list\n",
    "##append(): appends a new item at the end of the list\n",
    "names.append(\"canute\")\n",
    "print(names)\n",
    "names.append(input(\"enter name\"))\n",
    "print(names)"
   ]
  },
  {
   "cell_type": "code",
   "execution_count": null,
   "metadata": {},
   "outputs": [],
   "source": [
    "##insert(): inserts a new item at a specified position in the list\n",
    "names.insert(2,\"yulva\")\n",
    "print(names)"
   ]
  },
  {
   "cell_type": "code",
   "execution_count": null,
   "metadata": {},
   "outputs": [],
   "source": [
    "##index(): returns the index of item in the list\n",
    "index=names.index(\"thors\")\n",
    "print(index)"
   ]
  },
  {
   "cell_type": "code",
   "execution_count": null,
   "metadata": {},
   "outputs": [],
   "source": [
    "##remove(): removes the first occurence of the item (if duplicacy)\n",
    "#names.remove(\"apoorva\")\n",
    "#print(names)\n",
    "\n",
    "names.append(\"thors\")\n",
    "print(names)\n",
    "names.remove(\"thors\")\n",
    "print(names)"
   ]
  },
  {
   "cell_type": "code",
   "execution_count": null,
   "metadata": {},
   "outputs": [],
   "source": [
    "#pop(): removes and returns the item at the specified index\n",
    "pop=names.pop(-1)\n",
    "print(names,pop)"
   ]
  },
  {
   "cell_type": "code",
   "execution_count": null,
   "metadata": {},
   "outputs": [],
   "source": [
    "##count(): method returns count of how many times an element is repeated in the list\n",
    "fruits=[\"apple\",\"banana\",\"cherry\",\"mango\",\"papaya\",\"mango\"]\n",
    "print(fruits.count(\"mango\"))"
   ]
  },
  {
   "cell_type": "code",
   "execution_count": null,
   "metadata": {},
   "outputs": [],
   "source": [
    "##sort(): sort the list in ascending order \n",
    "fruits.sort()\n",
    "print(fruits)\n",
    "fruits.sort(reverse=True)    ##sort the list in descending order\n",
    "print(fruits)"
   ]
  },
  {
   "cell_type": "code",
   "execution_count": null,
   "metadata": {},
   "outputs": [],
   "source": [
    "##reverse(): reverse the list\n",
    "##clear(): removes all the elements from the list\n",
    "fruits.reverse()\n",
    "print(fruits)\n",
    "fruits.clear()\n",
    "print(fruits)"
   ]
  },
  {
   "cell_type": "code",
   "execution_count": null,
   "metadata": {},
   "outputs": [],
   "source": [
    "##Slicing list\n",
    "numbers=[1,2,3,4,5,6,7,8,9,10]\n",
    "print(numbers[3:-1])\n",
    "print(numbers[4:8])\n",
    "print(numbers[:6])\n",
    "print(numbers[2:])\n",
    "print(numbers[::])        ##complete list\n",
    "print(numbers[::-1])      ##reverse the list\n",
    "print(numbers[::2])       ##step of 2"
   ]
  },
  {
   "cell_type": "code",
   "execution_count": null,
   "metadata": {},
   "outputs": [],
   "source": [
    "##Iterating through list\n",
    "for num in enumerate(numbers):        ##enumerate(): add an index to each item in an iterable (like a list, tuple, or string) during iteration.\n",
    "    print(num,end=\" \")\n"
   ]
  },
  {
   "cell_type": "markdown",
   "metadata": {},
   "source": [
    "List Comprehension\n",
    "\n",
    "Basic syntax [expression for item in iterable]\n",
    "\n",
    "With Conditional logic [expression for item in iterable if condition]\n",
    "\n",
    "Nested iteration syntax [expression for item1 in iterable for item2 in iterable]"
   ]
  },
  {
   "cell_type": "code",
   "execution_count": null,
   "metadata": {},
   "outputs": [],
   "source": [
    "##List Comprehension: A concise and elegant way to create a list in a single line of code.\n",
    "lst=[]\n",
    "for i in range(10):\n",
    "    lst.append(i**2)\n",
    "print(lst)\n",
    "\n",
    "lst=[i**2 for i in range(10)]\n",
    "print(lst)"
   ]
  },
  {
   "cell_type": "code",
   "execution_count": null,
   "metadata": {},
   "outputs": [],
   "source": [
    "lst1=[1,2,3,4]\n",
    "lst2=[5,6]\n",
    "both=[[i,j] for i in lst1 for j in lst2]\n",
    "print(both)"
   ]
  },
  {
   "cell_type": "code",
   "execution_count": null,
   "metadata": {},
   "outputs": [],
   "source": [
    "##list comprehension with fuction calls\n",
    "word=[\"gojo\",\"sukuna\",\"itadori\",\"fushiguro\"]\n",
    "length=[len(i) for i in word]\n",
    "print(length)"
   ]
  }
 ],
 "metadata": {
  "kernelspec": {
   "display_name": "venv",
   "language": "python",
   "name": "python3"
  },
  "language_info": {
   "codemirror_mode": {
    "name": "ipython",
    "version": 3
   },
   "file_extension": ".py",
   "mimetype": "text/x-python",
   "name": "python",
   "nbconvert_exporter": "python",
   "pygments_lexer": "ipython3",
   "version": "3.11.1"
  }
 },
 "nbformat": 4,
 "nbformat_minor": 2
}
