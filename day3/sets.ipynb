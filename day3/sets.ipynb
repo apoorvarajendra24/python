{
 "cells": [
  {
   "cell_type": "code",
   "execution_count": null,
   "metadata": {},
   "outputs": [],
   "source": [
    "##Set: unordered collection of unique elements. does not have an order and duplicate values.\n",
    "my_set=set()      ##empty set\n",
    "print(type(my_set))\n",
    "\n",
    "my_set={1,2,3,4,5,6}\n",
    "print(my_set)"
   ]
  },
  {
   "cell_type": "code",
   "execution_count": null,
   "metadata": {},
   "outputs": [],
   "source": [
    "my_set1={1,1,3,4,4,45,88}    ##Removes duplicate values\n",
    "print(my_set1)\n",
    "myset=set([22,45,33,88,77,46,34,33,22])\n",
    "print(myset,type(myset))"
   ]
  },
  {
   "cell_type": "code",
   "execution_count": null,
   "metadata": {},
   "outputs": [],
   "source": [
    "##Set Operations\n",
    "#Addition of element\n",
    "my_set={1,2,3,4,5,6,7}\n",
    "my_set.add(8)      ##adds to the set, if already exists ignors\n",
    "print(my_set)\n",
    "my_set.add(8)\n",
    "print(my_set)"
   ]
  },
  {
   "cell_type": "code",
   "execution_count": null,
   "metadata": {},
   "outputs": [],
   "source": [
    "#Removing element\n",
    "my_set={1,2,3,4,5,6,7}\n",
    "my_set.remove(3)     ##removes elemnt from list, if not present gives error\n",
    "print(my_set)\n",
    "try:\n",
    "    my_set.remove(3) ##will give error cause 3 already removed as KeyError\n",
    "except KeyError:\n",
    "    print(\"Element not found in set\")\n",
    "print(my_set)\n",
    "\n",
    "##To avoid this error use discard()\n",
    "my_set.discard(7)     ##removes element\n",
    "print(my_set)\n",
    "my_set.discard(7)     ##ignores if not found\n",
    "print(my_set)"
   ]
  },
  {
   "cell_type": "code",
   "execution_count": null,
   "metadata": {},
   "outputs": [],
   "source": [
    "##pop(): follows the fifo concept and removes the 1st element\n",
    "pop_element=my_set.pop()\n",
    "print(pop_element)\n",
    "print(my_set)"
   ]
  },
  {
   "cell_type": "code",
   "execution_count": null,
   "metadata": {},
   "outputs": [],
   "source": [
    "##clear(): empties the whole list\n",
    "my_set1={1,2,3,4}\n",
    "my_set1.clear()\n",
    "print(my_set1)"
   ]
  },
  {
   "cell_type": "code",
   "execution_count": null,
   "metadata": {},
   "outputs": [],
   "source": [
    "##Set membership: is the element present in the set or not\n",
    "set1={1,2,3,4,5,6,7}\n",
    "print(10 in set1)\n",
    "print(20 not in set1)\n",
    "print(1 in set1)"
   ]
  },
  {
   "cell_type": "code",
   "execution_count": null,
   "metadata": {},
   "outputs": [],
   "source": [
    "##Mathematical set operations\n",
    "#union(): combines the elements in the either set\n",
    "set_a = {1,2,3,5}\n",
    "set_b = {4,3,6,7}\n",
    "set_c = set_a.union(set_b)\n",
    "print(set_c)\n",
    "print(set_a | set_b)\n",
    "print()\n",
    "#intersection(): Common element in both the sets\n",
    "set_c = set_a.intersection(set_b)\n",
    "print(set_c)\n",
    "print(set_a & set_b)\n",
    "print()\n",
    "##intersection_update(): common elements in both and updates the set_a\n",
    "set_a.intersection_update(set_b)\n",
    "print(set_a)\n",
    "print()\n",
    "set_a = {1,2,3,5}\n",
    "#difference(): Elements in set_a but not in set_b\n",
    "set_c = set_a.difference(set_b)\n",
    "print(set_c)\n",
    "print(set_a - set_b)\n",
    "print()\n",
    "##difference_update(): element in set_a not set_b and updates the set_a\n",
    "set_a.difference_update(set_b)\n",
    "print(set_a)\n",
    "print()\n",
    "set_a = {1,2,3,5}\n",
    "##symmetric_difference(): elements in either set but not both\n",
    "set_c = set_a.symmetric_difference(set_b)\n",
    "print(set_c)\n",
    "print(set_a ^ set_b)"
   ]
  },
  {
   "cell_type": "code",
   "execution_count": null,
   "metadata": {},
   "outputs": [],
   "source": [
    "##Set Methods\n",
    "#set.issubset(): checks if all elements of the set are present in another set\n",
    "a = {1,2}\n",
    "b = {1,2,3,4}\n",
    "print(a.issubset(b))\n",
    "print(b.issubset(a))\n",
    "#set.issuperset(): checks if all elements of another set are present in the set\n",
    "a = {1,2,3,4}\n",
    "b = {2,3}\n",
    "print(a.issuperset(b))\n",
    "print(b.issuperset(a))\n",
    "#set.isdisjoint(): checks if two sets have no elements in common\n",
    "print(a.isdisjoint(b))    #true if do not share any element, false if atleast one common"
   ]
  }
 ],
 "metadata": {
  "kernelspec": {
   "display_name": ".venv",
   "language": "python",
   "name": "python3"
  },
  "language_info": {
   "codemirror_mode": {
    "name": "ipython",
    "version": 3
   },
   "file_extension": ".py",
   "mimetype": "text/x-python",
   "name": "python",
   "nbconvert_exporter": "python",
   "pygments_lexer": "ipython3",
   "version": "3.13.1"
  }
 },
 "nbformat": 4,
 "nbformat_minor": 2
}
