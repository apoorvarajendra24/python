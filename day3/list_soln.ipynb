{
 "cells": [
  {
   "cell_type": "code",
   "execution_count": null,
   "metadata": {},
   "outputs": [],
   "source": [
    "##Question 1,2 and 3\n",
    "lst=[x for x in range(1,21)]\n",
    "print(lst)\n",
    "for index,i in enumerate(lst):\n",
    "    if index==0:\n",
    "        print(f\"{i} is the first number at index: [{index}]\")\n",
    "    if index==len(lst)/2:\n",
    "        print(f\"{i} is the middle number at index: [{index}]\")\n",
    "    if index==len(lst)-1:\n",
    "        print(f\"{i} is the last number at index: [{index}]\")\n",
    "print(\"The first five elements of the list are :\",lst[0:5])\n",
    "print(\"The last five elements of the list are :\",lst[-5:])       ##to get the last elements use negative indexing\n",
    "print(\"From 5th to 15th element :\",lst[5:16])"
   ]
  },
  {
   "cell_type": "code",
   "execution_count": null,
   "metadata": {},
   "outputs": [],
   "source": [
    "##Question 4\n",
    "lst1=[x**2 for x in range(1,11)]\n",
    "print(\"Squares of numbers from 1 to 10 :\",lst1)"
   ]
  },
  {
   "cell_type": "code",
   "execution_count": null,
   "metadata": {},
   "outputs": [],
   "source": [
    "##Question 5\n",
    "even_numbers=[i for i in lst if i%2==0]\n",
    "print(even_numbers)"
   ]
  },
  {
   "cell_type": "code",
   "execution_count": null,
   "metadata": {},
   "outputs": [],
   "source": [
    "##Question 6\n",
    "import random      ##used to generate random values\n",
    "random_list=[random.randint(1,100) for i in range(10)]  ##random.randint(): generates random integer values\n",
    "random_list+=random.choices(random_list,k=4)       ##add 4 random duplicates\n",
    "print(random_list)\n",
    "random_list.sort()                ##cannot assign lst.sort() to a variable as the function returns none and modifies the original list in first place\n",
    "print(\"The list in ascending order :\",random_list)\n",
    "random_list.sort(reverse=True)\n",
    "print(\"The list in descending order :\",random_list)\n",
    "print(random_list)\n",
    "##to remove duplicate items\n",
    "duplicate=[]\n",
    "for x in random_list:\n",
    "    if x not in duplicate:\n",
    "        duplicate.append(x)\n",
    "print(\"The unique list is:\",duplicate)"
   ]
  },
  {
   "cell_type": "code",
   "execution_count": null,
   "metadata": {},
   "outputs": [],
   "source": [
    "##Question 7\n",
    "import numpy as np\n",
    "l1=[1,2,3]\n",
    "l2=[4,5,6]\n",
    "l3=[7,8,9]\n",
    "arr=np.array([l1,l2,l3])\n",
    "print(f\"matrix is :\\n{arr}\")\n",
    "element=arr[1][2]\n",
    "print(f\"Element at 2nd row 3rd column is :{element}\")\n",
    "\n",
    "matrix = [[1, 2, 3],  # Row 1\n",
    "    [4, 5, 6],        # Row 2\n",
    "    [7, 8, 9]]        # Row\n",
    "print(\"Matrix:\")\n",
    "for row in matrix:\n",
    "    print(row)\n",
    "element = matrix[1][2]  \n",
    "print(\"\\nElement at second row and third column:\", element)"
   ]
  },
  {
   "cell_type": "code",
   "execution_count": null,
   "metadata": {},
   "outputs": [],
   "source": [
    "##Question 8\n",
    "matrix=[[1,2,3],[4,5,6],[7,8,9]]\n",
    "print(\"Original Matrix:\")\n",
    "for row in matrix:\n",
    "    print(row)\n",
    "transpose=[]\n",
    "for col in range(len(matrix[0])):\n",
    "    new_row=[]\n",
    "    for row in range(len(matrix)):\n",
    "        print(matrix[row][col], end=\" \")\n",
    "        new_row.append(matrix[row][col])\n",
    "    transpose.append(new_row)\n",
    "print(\"Transpose Matrix:\")\n",
    "for row in transpose:\n",
    "    print(row)"
   ]
  }
 ],
 "metadata": {
  "kernelspec": {
   "display_name": "venv",
   "language": "python",
   "name": "python3"
  },
  "language_info": {
   "codemirror_mode": {
    "name": "ipython",
    "version": 3
   },
   "file_extension": ".py",
   "mimetype": "text/x-python",
   "name": "python",
   "nbconvert_exporter": "python",
   "pygments_lexer": "ipython3",
   "version": "3.11.1"
  }
 },
 "nbformat": 4,
 "nbformat_minor": 2
}
