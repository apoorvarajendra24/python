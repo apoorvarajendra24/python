{
 "cells": [
  {
   "cell_type": "code",
   "execution_count": 15,
   "metadata": {},
   "outputs": [
    {
     "name": "stdout",
     "output_type": "stream",
     "text": [
      "Not a student\n"
     ]
    }
   ],
   "source": [
    "##Data types \n",
    "import random\n",
    "\n",
    "a=10        #integer\n",
    "type(a)\n",
    "b=\"tanvi bokya\"     #string\n",
    "type(b)\n",
    "c=3.14       #float\n",
    "type(c)\n",
    "is_student=True     #Boolean\n",
    "type(is_student)\n",
    "\n",
    "is_student=random.choice([True,False])\n",
    "type(is_student)\n",
    "if is_student==True:\n",
    "    print(\"Student\")\n",
    "else:\n",
    "    print(\"Not a student\")"
   ]
  }
 ],
 "metadata": {
  "kernelspec": {
   "display_name": ".venv",
   "language": "python",
   "name": "python3"
  },
  "language_info": {
   "codemirror_mode": {
    "name": "ipython",
    "version": 3
   },
   "file_extension": ".py",
   "mimetype": "text/x-python",
   "name": "python",
   "nbconvert_exporter": "python",
   "pygments_lexer": "ipython3",
   "version": "3.13.1"
  }
 },
 "nbformat": 4,
 "nbformat_minor": 2
}
